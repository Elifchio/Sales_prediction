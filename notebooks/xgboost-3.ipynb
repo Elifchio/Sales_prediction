{
 "cells": [
  {
   "cell_type": "code",
   "execution_count": 31,
   "id": "1355fb1f-8ac9-4e57-9eb8-a48480a5461d",
   "metadata": {},
   "outputs": [],
   "source": [
    "import pandas as pd\n",
    "import matplotlib.pyplot as plt\n",
    "new_train = pd.read_csv('new_train.csv') \n",
    "new_test = pd.read_csv('new_test.csv') "
   ]
  },
  {
   "cell_type": "code",
   "execution_count": 34,
   "id": "06330b12-29c4-4751-b8c0-551166862237",
   "metadata": {},
   "outputs": [
    {
     "name": "stdout",
     "output_type": "stream",
     "text": [
      "<class 'pandas.core.frame.DataFrame'>\n",
      "RangeIndex: 41088 entries, 0 to 41087\n",
      "Data columns (total 28 columns):\n",
      " #   Column                        Non-Null Count  Dtype  \n",
      "---  ------                        --------------  -----  \n",
      " 0   Store                         41088 non-null  int64  \n",
      " 1   Sales                         0 non-null      float64\n",
      " 2   Customers                     0 non-null      float64\n",
      " 3   Open                          41077 non-null  float64\n",
      " 4   Promo                         41088 non-null  int64  \n",
      " 5   StateHoliday                  41088 non-null  int64  \n",
      " 6   SchoolHoliday                 41088 non-null  int64  \n",
      " 7   Month                         41088 non-null  int64  \n",
      " 8   Year                          41088 non-null  int64  \n",
      " 9   DayOfWeek_1                   41088 non-null  bool   \n",
      " 10  DayOfWeek_2                   41088 non-null  bool   \n",
      " 11  DayOfWeek_3                   41088 non-null  bool   \n",
      " 12  DayOfWeek_4                   41088 non-null  bool   \n",
      " 13  DayOfWeek_5                   41088 non-null  bool   \n",
      " 14  DayOfWeek_6                   41088 non-null  bool   \n",
      " 15  DayOfWeek_7                   41088 non-null  bool   \n",
      " 16  CompetitionDistance           41088 non-null  float64\n",
      " 17  Promo2                        41088 non-null  int64  \n",
      " 18  StoreType_a                   41088 non-null  bool   \n",
      " 19  StoreType_b                   41088 non-null  bool   \n",
      " 20  StoreType_c                   41088 non-null  bool   \n",
      " 21  StoreType_d                   41088 non-null  bool   \n",
      " 22  Assortment_a                  41088 non-null  bool   \n",
      " 23  Assortment_b                  41088 non-null  bool   \n",
      " 24  Assortment_c                  41088 non-null  bool   \n",
      " 25  CompetitionOpenSinceDays      41088 non-null  int64  \n",
      " 26  Promo2SinceDays               41088 non-null  float64\n",
      " 27  Promo2ParticipationCurrently  41088 non-null  int64  \n",
      "dtypes: bool(14), float64(5), int64(9)\n",
      "memory usage: 4.9 MB\n"
     ]
    }
   ],
   "source": [
    "new_test.info()"
   ]
  },
  {
   "cell_type": "code",
   "execution_count": 2,
   "id": "9b3393c9-ef5a-4935-b28c-fc717e8fc7d4",
   "metadata": {},
   "outputs": [
    {
     "name": "stdout",
     "output_type": "stream",
     "text": [
      "<class 'pandas.core.frame.DataFrame'>\n",
      "RangeIndex: 844392 entries, 0 to 844391\n",
      "Data columns (total 31 columns):\n",
      " #   Column                        Non-Null Count   Dtype  \n",
      "---  ------                        --------------   -----  \n",
      " 0   Store                         844392 non-null  int64  \n",
      " 1   Sales                         844392 non-null  int64  \n",
      " 2   Customers                     844392 non-null  int64  \n",
      " 3   Open                          844392 non-null  int64  \n",
      " 4   Promo                         844392 non-null  int64  \n",
      " 5   SchoolHoliday                 844392 non-null  int64  \n",
      " 6   StateHoliday_0                844392 non-null  bool   \n",
      " 7   StateHoliday_a                844392 non-null  bool   \n",
      " 8   StateHoliday_b                844392 non-null  bool   \n",
      " 9   StateHoliday_c                844392 non-null  bool   \n",
      " 10  Month                         844392 non-null  int64  \n",
      " 11  Year                          844392 non-null  int64  \n",
      " 12  DayOfWeek_1                   844392 non-null  bool   \n",
      " 13  DayOfWeek_2                   844392 non-null  bool   \n",
      " 14  DayOfWeek_3                   844392 non-null  bool   \n",
      " 15  DayOfWeek_4                   844392 non-null  bool   \n",
      " 16  DayOfWeek_5                   844392 non-null  bool   \n",
      " 17  DayOfWeek_6                   844392 non-null  bool   \n",
      " 18  DayOfWeek_7                   844392 non-null  bool   \n",
      " 19  CompetitionDistance           844392 non-null  float64\n",
      " 20  Promo2                        844392 non-null  int64  \n",
      " 21  StoreType_a                   844392 non-null  bool   \n",
      " 22  StoreType_b                   844392 non-null  bool   \n",
      " 23  StoreType_c                   844392 non-null  bool   \n",
      " 24  StoreType_d                   844392 non-null  bool   \n",
      " 25  Assortment_a                  844392 non-null  bool   \n",
      " 26  Assortment_b                  844392 non-null  bool   \n",
      " 27  Assortment_c                  844392 non-null  bool   \n",
      " 28  CompetitionOpenSinceDays      844392 non-null  int64  \n",
      " 29  Promo2SinceDays               844392 non-null  float64\n",
      " 30  Promo2ParticipationCurrently  844392 non-null  int64  \n",
      "dtypes: bool(18), float64(2), int64(11)\n",
      "memory usage: 98.2 MB\n"
     ]
    }
   ],
   "source": [
    "new_train.info()"
   ]
  },
  {
   "cell_type": "code",
   "execution_count": 3,
   "id": "9ee17628-7261-4568-b88e-75d35a82fffc",
   "metadata": {},
   "outputs": [
    {
     "data": {
      "text/plain": [
       "Store                           0\n",
       "Sales                           0\n",
       "Customers                       0\n",
       "Open                            0\n",
       "Promo                           0\n",
       "SchoolHoliday                   0\n",
       "StateHoliday_0                  0\n",
       "StateHoliday_a                  0\n",
       "StateHoliday_b                  0\n",
       "StateHoliday_c                  0\n",
       "Month                           0\n",
       "Year                            0\n",
       "DayOfWeek_1                     0\n",
       "DayOfWeek_2                     0\n",
       "DayOfWeek_3                     0\n",
       "DayOfWeek_4                     0\n",
       "DayOfWeek_5                     0\n",
       "DayOfWeek_6                     0\n",
       "DayOfWeek_7                     0\n",
       "CompetitionDistance             0\n",
       "Promo2                          0\n",
       "StoreType_a                     0\n",
       "StoreType_b                     0\n",
       "StoreType_c                     0\n",
       "StoreType_d                     0\n",
       "Assortment_a                    0\n",
       "Assortment_b                    0\n",
       "Assortment_c                    0\n",
       "CompetitionOpenSinceDays        0\n",
       "Promo2SinceDays                 0\n",
       "Promo2ParticipationCurrently    0\n",
       "dtype: int64"
      ]
     },
     "execution_count": 3,
     "metadata": {},
     "output_type": "execute_result"
    }
   ],
   "source": [
    "new_train.isnull().sum()"
   ]
  },
  {
   "cell_type": "code",
   "execution_count": 3,
   "id": "a5260cb2-1208-4556-8af7-af4d8b24e230",
   "metadata": {},
   "outputs": [],
   "source": [
    "# train test split\n",
    "from sklearn.model_selection import train_test_split\n",
    "\n",
    "X = new_train.drop(columns=['Sales'])  \n",
    "y = new_train['Sales']                \n",
    "\n",
    "\n",
    "X_train, X_test, y_train, y_test = train_test_split(X, y, test_size=0.2, random_state=42)"
   ]
  },
  {
   "cell_type": "code",
   "execution_count": null,
   "id": "621f1513-0c10-445a-868f-002c007ac942",
   "metadata": {},
   "outputs": [],
   "source": []
  },
  {
   "cell_type": "code",
   "execution_count": 4,
   "id": "f2505a5a-53ae-484d-8fe4-74fadab98699",
   "metadata": {},
   "outputs": [],
   "source": [
    "# Scaling\n",
    "from sklearn.preprocessing import StandardScaler\n",
    "scaler = StandardScaler()\n",
    "X_train_scaled = scaler.fit_transform(X_train)\n",
    "X_test_scaled = scaler.transform(X_test)"
   ]
  },
  {
   "cell_type": "code",
   "execution_count": null,
   "id": "5816534b-0e69-4dd7-9837-742427225580",
   "metadata": {},
   "outputs": [],
   "source": []
  },
  {
   "cell_type": "code",
   "execution_count": 5,
   "id": "c1fc6d5f-2fa8-4863-837e-e2a830cdd39b",
   "metadata": {},
   "outputs": [
    {
     "name": "stdout",
     "output_type": "stream",
     "text": [
      "Requirement already satisfied: xgboost in /Users/elif/opt/anaconda3/lib/python3.9/site-packages (2.0.3)\n",
      "Requirement already satisfied: scipy in /Users/elif/opt/anaconda3/lib/python3.9/site-packages (from xgboost) (1.10.1)\n",
      "Requirement already satisfied: numpy in /Users/elif/opt/anaconda3/lib/python3.9/site-packages (from xgboost) (1.23.5)\n"
     ]
    }
   ],
   "source": [
    "!pip install xgboost\n",
    "import xgboost as xgb\n",
    "from xgboost import XGBRegressor\n",
    "from sklearn.metrics import mean_squared_error, r2_score\n",
    "from sklearn.model_selection import RandomizedSearchCV\n",
    "import numpy as np"
   ]
  },
  {
   "cell_type": "code",
   "execution_count": 8,
   "id": "7144d755-d140-4a2b-8ded-b5bcbda8cb8f",
   "metadata": {},
   "outputs": [
    {
     "data": {
      "text/plain": [
       "6369.0"
      ]
     },
     "execution_count": 8,
     "metadata": {},
     "output_type": "execute_result"
    }
   ],
   "source": [
    "new_train[\"Sales\"].median() # to evaluate the error"
   ]
  },
  {
   "cell_type": "code",
   "execution_count": 9,
   "id": "06ed467e-3e5c-4b7e-8287-545d81ec05c0",
   "metadata": {},
   "outputs": [
    {
     "name": "stdout",
     "output_type": "stream",
     "text": [
      "XGBoost Model Performance:\n",
      "Mean Squared Error (MSE): 330394.8415774755\n",
      "Root Mean Squared Error (RMSE): 574.7998273986132\n",
      "R-squared (R²): 0.9655312753254954\n",
      "Fitting 3 folds for each of 50 candidates, totalling 150 fits\n",
      "Best parameters: {'subsample': 0.8, 'n_estimators': 500, 'min_child_weight': 1, 'max_depth': 7, 'learning_rate': 0.2, 'colsample_bytree': 1.0}\n",
      "Best XGBoost Model Performance:\n",
      "Mean Squared Error (MSE): 187129.21640367855\n",
      "Root Mean Squared Error (RMSE): 432.58434599934213\n",
      "R-squared (R²): 0.9804775843110078\n"
     ]
    }
   ],
   "source": [
    "\n",
    "\n",
    "xgb_model = XGBRegressor(objective='reg:squarederror', random_state=42)\n",
    "xgb_model.fit(X_train_scaled, y_train)\n",
    "\n",
    "\n",
    "y_pred = xgb_model.predict(X_test_scaled)\n",
    "mse = mean_squared_error(y_test, y_pred)\n",
    "rmse = np.sqrt(mse)\n",
    "r2 = r2_score(y_test, y_pred)\n",
    "\n",
    "print(\"XGBoost Model Performance:\")\n",
    "print(f\"Mean Squared Error (MSE): {mse}\")\n",
    "print(f\"Root Mean Squared Error (RMSE): {rmse}\")\n",
    "print(f\"R-squared (R²): {r2}\")\n",
    "\n",
    "# RandomizedSearchCV\n",
    "\n",
    "param_dist = {\n",
    "    'n_estimators': [100, 200, 500],\n",
    "    'learning_rate': [0.01, 0.1, 0.2],\n",
    "    'max_depth': [3, 5, 7],\n",
    "    'min_child_weight': [1, 3, 5],\n",
    "    'subsample': [0.6, 0.8, 1.0],\n",
    "    'colsample_bytree': [0.6, 0.8, 1.0]\n",
    "}\n",
    "\n",
    "random_search = RandomizedSearchCV(\n",
    "    xgb_model, \n",
    "    param_distributions=param_dist, \n",
    "    n_iter=50, \n",
    "    scoring='neg_mean_squared_error', \n",
    "    cv=3, \n",
    "    verbose=2, \n",
    "    random_state=42,\n",
    "    n_jobs=-1\n",
    ")\n",
    "\n",
    "\n",
    "random_search.fit(X_train_scaled, y_train)\n",
    "\n",
    "\n",
    "best_params = random_search.best_params_\n",
    "print(f\"Best parameters: {best_params}\")\n",
    "\n",
    "\n",
    "best_xgb_model = XGBRegressor(objective='reg:squarederror', **best_params)\n",
    "best_xgb_model.fit(X_train_scaled, y_train)\n",
    "\n",
    "\n",
    "y_pred_best = best_xgb_model.predict(X_test_scaled)\n",
    "mse_best = mean_squared_error(y_test, y_pred_best)\n",
    "rmse_best = np.sqrt(mse_best)\n",
    "r2_best = r2_score(y_test, y_pred_best)\n",
    "\n",
    "print(\"Best XGBoost Model Performance:\")\n",
    "print(f\"Mean Squared Error (MSE): {mse_best}\")\n",
    "print(f\"Root Mean Squared Error (RMSE): {rmse_best}\")\n",
    "print(f\"R-squared (R²): {r2_best}\")"
   ]
  },
  {
   "cell_type": "code",
   "execution_count": null,
   "id": "d0af62e3-a727-40b2-a384-09b2c04d1d07",
   "metadata": {},
   "outputs": [],
   "source": []
  },
  {
   "cell_type": "raw",
   "id": "c446d28c-c881-43c2-8803-ebdff9452a64",
   "metadata": {},
   "source": [
    "# loss function\n",
    "To use different loss functions (objectives) for your XGBoost model, \n",
    "you can modify the objective parameter of the XGBRegressor. XGBoost \n",
    "provides several built-in objectives for regression tasks, including reg:squarederror (MSE), \n",
    "reg:logistic(logistic regression), reg:gamma (Gamma regression), and \n",
    "reg:tweedie (Tweedie regression)."
   ]
  },
  {
   "cell_type": "code",
   "execution_count": 10,
   "id": "d62f661e-ffad-4a92-8c0b-1812c92b6ee1",
   "metadata": {},
   "outputs": [
    {
     "name": "stdout",
     "output_type": "stream",
     "text": [
      "XGBoost Model Performance:\n",
      "Mean Squared Error (MSE): 186222.98488334042\n",
      "Root Mean Squared Error (RMSE): 431.53561253196756\n",
      "R-squared (R²): 0.9805721276901259\n"
     ]
    }
   ],
   "source": [
    "# loss function squarederror\n",
    "import xgboost as xgb\n",
    "from xgboost import XGBRegressor\n",
    "from sklearn.metrics import mean_squared_error, r2_score\n",
    "\n",
    "best_params = {\n",
    "    'subsample': 0.8,\n",
    "    'n_estimators': 500,\n",
    "    'min_child_weight': 1,\n",
    "    'max_depth': 7,\n",
    "    'learning_rate': 0.2,\n",
    "    'colsample_bytree': 1.0\n",
    "}\n",
    "\n",
    "xgb_model = XGBRegressor(objective='reg:squarederror', random_state=42, **best_params)\n",
    "xgb_model.fit(X_train_scaled, y_train)\n",
    "\n",
    "y_pred = xgb_model.predict(X_test_scaled)\n",
    "mse = mean_squared_error(y_test, y_pred)\n",
    "rmse = np.sqrt(mse)\n",
    "r2 = r2_score(y_test, y_pred)\n",
    "\n",
    "print(\"XGBoost Model Performance:\")\n",
    "print(f\"Mean Squared Error (MSE): {mse}\")\n",
    "print(f\"Root Mean Squared Error (RMSE): {rmse}\")\n",
    "print(f\"R-squared (R²): {r2}\")"
   ]
  },
  {
   "cell_type": "code",
   "execution_count": 7,
   "id": "5dbb62bb-aa48-4c52-a7d8-1922e490dafc",
   "metadata": {},
   "outputs": [
    {
     "name": "stdout",
     "output_type": "stream",
     "text": [
      "Training set size: 607962\n",
      "Validation set size: 67551\n",
      "Test set size: 168879\n"
     ]
    }
   ],
   "source": [
    "# now we do it with validation set\n",
    "from sklearn.model_selection import train_test_split\n",
    "from sklearn.preprocessing import StandardScaler\n",
    "\n",
    "X = new_train.drop(columns=['Sales'])  # Features: all columns except 'Sales'\n",
    "y = new_train['Sales']                # Target: the 'Sales' column\n",
    "\n",
    "X_train_full, X_test, y_train_full, y_test = train_test_split(X, y, test_size=0.2, random_state=42)\n",
    "\n",
    "remaining_X = len(X_train_full)\n",
    "validation_size = int(remaining_X * 0.1)  # 10% for validation\n",
    "X_train, X_val, y_train, y_val = train_test_split(X_train_full, y_train_full, test_size=validation_size, random_state=42)\n",
    "\n",
    "scaler = StandardScaler()\n",
    "X_train_scaled = scaler.fit_transform(X_train)\n",
    "X_val_scaled = scaler.transform(X_val)  # Use transform() for validation and test sets\n",
    "X_test_scaled = scaler.transform(X_test)\n",
    "\n",
    "print(\"Training set size:\", X_train_scaled.shape[0])\n",
    "print(\"Validation set size:\", X_val_scaled.shape[0])\n",
    "print(\"Test set size:\", X_test_scaled.shape[0])\n",
    "\n"
   ]
  },
  {
   "cell_type": "code",
   "execution_count": null,
   "id": "a1b22742-e47a-4d81-b836-b6be4e83ab3e",
   "metadata": {},
   "outputs": [],
   "source": []
  },
  {
   "cell_type": "code",
   "execution_count": 8,
   "id": "4e985dbf-00e3-42ee-9231-a1b78c761615",
   "metadata": {},
   "outputs": [
    {
     "name": "stderr",
     "output_type": "stream",
     "text": [
      "/Users/elif/opt/anaconda3/lib/python3.9/site-packages/xgboost/sklearn.py:889: UserWarning: `early_stopping_rounds` in `fit` method is deprecated for better compatibility with scikit-learn, use `early_stopping_rounds` in constructor or`set_params` instead.\n",
      "  warnings.warn(\n"
     ]
    },
    {
     "name": "stdout",
     "output_type": "stream",
     "text": [
      "XGBoost Model Performance:\n",
      "Mean Squared Error (MSE): 188349.44062848037\n",
      "Root Mean Squared Error (RMSE): 433.9924430545771\n",
      "R-squared (R²): 0.9803502833742105\n"
     ]
    }
   ],
   "source": [
    "import xgboost as xgb\n",
    "from xgboost import XGBRegressor\n",
    "from sklearn.metrics import mean_squared_error, r2_score\n",
    "\n",
    "# Best parameters from the previous randomized search\n",
    "best_params = {\n",
    "    'subsample': 0.8,\n",
    "    'n_estimators': 500,\n",
    "    'min_child_weight': 1,\n",
    "    'max_depth': 7,\n",
    "    'learning_rate': 0.2,\n",
    "    'colsample_bytree': 1.0\n",
    "}\n",
    "\n",
    "# best parameters and default loss function (Squared Error)\n",
    "xgb_model = XGBRegressor(objective='reg:squarederror', random_state=42, **best_params)\n",
    "xgb_model.fit(X_train_scaled, y_train, eval_set=[(X_val_scaled, y_val)], early_stopping_rounds=10, verbose=False)\n",
    "\n",
    "y_pred = xgb_model.predict(X_test_scaled)\n",
    "mse = mean_squared_error(y_test, y_pred)\n",
    "rmse = np.sqrt(mse)\n",
    "r2 = r2_score(y_test, y_pred)\n",
    "\n",
    "print(\"XGBoost Model Performance:\")\n",
    "print(f\"Mean Squared Error (MSE): {mse}\")\n",
    "print(f\"Root Mean Squared Error (RMSE): {rmse}\")\n",
    "print(f\"R-squared (R²): {r2}\")\n"
   ]
  },
  {
   "cell_type": "code",
   "execution_count": null,
   "id": "556da93e-dc10-488a-b259-1d92ba4e357b",
   "metadata": {},
   "outputs": [],
   "source": []
  },
  {
   "cell_type": "code",
   "execution_count": null,
   "id": "9cc9980c-c720-4163-a0f0-83eb295c7a27",
   "metadata": {},
   "outputs": [],
   "source": []
  },
  {
   "cell_type": "code",
   "execution_count": 9,
   "id": "21b766f7-9fde-449c-aa1d-60890e8b2b67",
   "metadata": {},
   "outputs": [
    {
     "data": {
      "text/plain": [
       "<Figure size 1000x600 with 0 Axes>"
      ]
     },
     "metadata": {},
     "output_type": "display_data"
    },
    {
     "data": {
      "image/png": "[encoded data removed]",
      "text/plain": [
       "<Figure size 640x480 with 1 Axes>"
      ]
     },
     "metadata": {},
     "output_type": "display_data"
    }
   ],
   "source": [
    "import matplotlib.pyplot as plt\n",
    "import xgboost as xgb\n",
    "import pandas as pd\n",
    "\n",
    "# feature importance plot\n",
    "plt.figure(figsize=(10, 6))\n",
    "xgb.plot_importance(xgb_model, importance_type='weight', max_num_features=10, title='Feature Importance')\n",
    "plt.savefig('feature_importance.png')  # Save the plot as an image file\n"
   ]
  },
  {
   "cell_type": "raw",
   "id": "126febd6-6aec-438d-b497-365240cb8b06",
   "metadata": {},
   "source": [
    "Now xgboost to have two target columns:\n",
    "    "
   ]
  },
  {
   "cell_type": "code",
   "execution_count": 36,
   "id": "1dc72cf8-efee-4811-b5db-d423950f64b1",
   "metadata": {},
   "outputs": [
    {
     "name": "stderr",
     "output_type": "stream",
     "text": [
      "/var/folders/yg/xmn_7fzd29x_t6vxtfn8_gsw0000gn/T/ipykernel_68189/3525998605.py:48: SettingWithCopyWarning: \n",
      "A value is trying to be set on a copy of a slice from a DataFrame.\n",
      "Try using .loc[row_indexer,col_indexer] = value instead\n",
      "\n",
      "See the caveats in the documentation: https://pandas.pydata.org/pandas-docs/stable/user_guide/indexing.html#returning-a-view-versus-a-copy\n",
      "  X_test['Open'] = X_test['Open'].fillna(X_test['Open'].mean())  # Simple imputation example\n"
     ]
    },
    {
     "name": "stdout",
     "output_type": "stream",
     "text": [
      "\n",
      "Predictions have been saved to 'path_to_new_test_predictions.csv'.\n"
     ]
    }
   ],
   "source": [
    "import pandas as pd\n",
    "from xgboost import XGBRegressor\n",
    "from sklearn.model_selection import train_test_split\n",
    "from sklearn.metrics import mean_squared_error, r2_score\n",
    "\n",
    "X_train = new_train.drop(columns=['Customers', 'Sales'])\n",
    "y_customers = new_train['Customers']\n",
    "y_sales = new_train['Sales']\n",
    "\n",
    "X_train_features, X_val_features, y_train_customers, y_val_customers = train_test_split(\n",
    "    X_train, y_customers, test_size=0.2, random_state=42\n",
    ")\n",
    "X_train_features, X_val_features, y_train_sales, y_val_sales = train_test_split(\n",
    "    X_train, y_sales, test_size=0.2, random_state=42\n",
    ")\n",
    "\n",
    "xgb_model_customers = XGBRegressor(\n",
    "    objective='reg:squarederror', \n",
    "    random_state=42\n",
    ")\n",
    "xgb_model_sales = XGBRegressor(\n",
    "    objective='reg:squarederror', \n",
    "    random_state=42\n",
    ")\n",
    "#customers\n",
    "xgb_model_customers.fit(\n",
    "    X_train_features, y_train_customers, \n",
    "    eval_set=[(X_val_features, y_val_customers)], \n",
    "    verbose=False\n",
    ")\n",
    "\n",
    "#Sales\n",
    "xgb_model_sales.fit(\n",
    "    X_train_features, y_train_sales, \n",
    "    eval_set=[(X_val_features, y_val_sales)], \n",
    "    verbose=False\n",
    ")\n",
    "\n",
    "\n",
    "X_test = new_test[X_train.columns]  # Align test set features with training set features\n",
    "\n",
    "# 11 missing values in test open, impute\n",
    "X_test['Open'] = X_test['Open'].fillna(X_test['Open'].mean())  # Simple imputation example\n",
    "\n",
    "# predictions\n",
    "new_test['Customers'] = xgb_model_customers.predict(X_test)\n",
    "new_test['Sales'] = xgb_model_sales.predict(X_test)\n",
    "\n",
    "# Saving results\n",
    "new_test.to_csv('path_to_new_test_predictions.csv', index=False)\n",
    "\n"
   ]
  },
  {
   "cell_type": "code",
   "execution_count": null,
   "id": "d0ea737c-f536-407a-9f01-0dd7ed36e397",
   "metadata": {},
   "outputs": [],
   "source": []
  },
  {
   "cell_type": "code",
   "execution_count": null,
   "id": "942c9159-1086-468f-8dc9-10fef0e16c23",
   "metadata": {},
   "outputs": [],
   "source": []
  },
  {
   "cell_type": "code",
   "execution_count": null,
   "id": "303b3c59-b59b-4371-af5d-fd9135864195",
   "metadata": {},
   "outputs": [],
   "source": []
  },
  {
   "cell_type": "code",
   "execution_count": null,
   "id": "a03eaf51-dad4-4614-87f9-6be1d7b7788e",
   "metadata": {},
   "outputs": [],
   "source": []
  },
  {
   "cell_type": "code",
   "execution_count": null,
   "id": "03f23575-bf1e-47ef-ae92-3f381b0bab21",
   "metadata": {},
   "outputs": [],
   "source": []
  },
  {
   "cell_type": "code",
   "execution_count": null,
   "id": "1a8cc072-2a3a-4a7d-a4f3-efba6800a055",
   "metadata": {},
   "outputs": [],
   "source": []
  },
  {
   "cell_type": "code",
   "execution_count": null,
   "id": "ae19419a-a445-44e6-ba84-492f315d48f7",
   "metadata": {},
   "outputs": [],
   "source": []
  },
  {
   "cell_type": "code",
   "execution_count": null,
   "id": "e30eb6e6-9ac0-4b28-9332-485d58c09cae",
   "metadata": {},
   "outputs": [],
   "source": []
  },
  {
   "cell_type": "code",
   "execution_count": null,
   "id": "90799857-fe7d-4d0d-ac24-a2ae55c9f533",
   "metadata": {},
   "outputs": [],
   "source": []
  },
  {
   "cell_type": "code",
   "execution_count": null,
   "id": "d857843e-2581-4b74-bb41-2e7b82268319",
   "metadata": {},
   "outputs": [],
   "source": []
  },
  {
   "cell_type": "code",
   "execution_count": null,
   "id": "ccca19f6-0e3c-4925-a148-75de7fda764e",
   "metadata": {},
   "outputs": [],
   "source": []
  },
  {
   "cell_type": "code",
   "execution_count": null,
   "id": "fac73cb5-a723-4557-84b4-fb4dc671d195",
   "metadata": {},
   "outputs": [],
   "source": []
  },
  {
   "cell_type": "code",
   "execution_count": null,
   "id": "756de495-921c-4cbf-8346-66ff89504083",
   "metadata": {},
   "outputs": [],
   "source": []
  },
  {
   "cell_type": "code",
   "execution_count": null,
   "id": "136da70f-56ad-4939-bcd6-cb88749d5a91",
   "metadata": {},
   "outputs": [],
   "source": []
  },
  {
   "cell_type": "code",
   "execution_count": null,
   "id": "408ae230-4348-4a0c-9a4a-cb170f6b64bf",
   "metadata": {},
   "outputs": [],
   "source": []
  },
  {
   "cell_type": "code",
   "execution_count": null,
   "id": "eec352d2-63ad-49df-86d7-50ba13f935e0",
   "metadata": {},
   "outputs": [],
   "source": []
  },
  {
   "cell_type": "code",
   "execution_count": null,
   "id": "a7766865-de1e-4d1c-a29d-ccafd46bad0b",
   "metadata": {},
   "outputs": [],
   "source": []
  },
  {
   "cell_type": "code",
   "execution_count": null,
   "id": "dcba76ee-ab25-4341-93a3-3e4c498eb328",
   "metadata": {},
   "outputs": [],
   "source": []
  },
  {
   "cell_type": "code",
   "execution_count": null,
   "id": "705bb3f3-2e33-487a-a503-8b6d28d8368f",
   "metadata": {},
   "outputs": [],
   "source": []
  },
  {
   "cell_type": "code",
   "execution_count": null,
   "id": "f5135b0c-63c7-4a83-acf0-44d9104d7e76",
   "metadata": {},
   "outputs": [],
   "source": []
  }
 ],
 "metadata": {
  "kernelspec": {
   "display_name": "Python 3 (ipykernel)",
   "language": "python",
   "name": "python3"
  },
  "language_info": {
   "codemirror_mode": {
    "name": "ipython",
    "version": 3
   },
   "file_extension": ".py",
   "mimetype": "text/x-python",
   "name": "python",
   "nbconvert_exporter": "python",
   "pygments_lexer": "ipython3",
   "version": "3.9.13"
  }
 },
 "nbformat": 4,
 "nbformat_minor": 5
}
