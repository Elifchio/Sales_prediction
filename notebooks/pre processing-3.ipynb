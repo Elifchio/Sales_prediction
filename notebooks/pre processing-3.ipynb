{
 "cells": [
  {
   "cell_type": "raw",
   "id": "60c19c1c-7820-4807-b89b-40856f6d8f34",
   "metadata": {},
   "source": [
    "## Data Understanding\n",
    "Total # of stores: 1115\n",
    "Train: sales from 01/01/2013 to 31/07/2015\n",
    "Test: 01/08/2015 to 17/09/2015\n",
    "Store: Additional info on stores, applicable both to train and test"
   ]
  },
  {
   "cell_type": "markdown",
   "id": "da9854d5-d3ac-4a75-a2ae-11d0b6b50c71",
   "metadata": {},
   "source": [
    "## General start\n",
    "Importing the necessary libraries and packages\n"
   ]
  },
  {
   "cell_type": "code",
   "execution_count": 1,
   "id": "78aa36b6-6add-4304-a752-8cede3e9c9d3",
   "metadata": {},
   "outputs": [
    {
     "name": "stdout",
     "output_type": "stream",
     "text": [
      "Requirement already satisfied: pandas in /Users/elif/opt/anaconda3/lib/python3.9/site-packages (2.0.0)\n",
      "Requirement already satisfied: pytz>=2020.1 in /Users/elif/opt/anaconda3/lib/python3.9/site-packages (from pandas) (2022.7)\n",
      "Requirement already satisfied: python-dateutil>=2.8.2 in /Users/elif/opt/anaconda3/lib/python3.9/site-packages (from pandas) (2.8.2)\n",
      "Requirement already satisfied: numpy>=1.20.3 in /Users/elif/opt/anaconda3/lib/python3.9/site-packages (from pandas) (1.23.5)\n",
      "Requirement already satisfied: tzdata>=2022.1 in /Users/elif/opt/anaconda3/lib/python3.9/site-packages (from pandas) (2023.3)\n",
      "Requirement already satisfied: six>=1.5 in /Users/elif/opt/anaconda3/lib/python3.9/site-packages (from python-dateutil>=2.8.2->pandas) (1.16.0)\n",
      "Requirement already satisfied: matplotlib in /Users/elif/opt/anaconda3/lib/python3.9/site-packages (3.7.1)\n",
      "Requirement already satisfied: kiwisolver>=1.0.1 in /Users/elif/opt/anaconda3/lib/python3.9/site-packages (from matplotlib) (1.4.4)\n",
      "Requirement already satisfied: pillow>=6.2.0 in /Users/elif/opt/anaconda3/lib/python3.9/site-packages (from matplotlib) (9.4.0)\n",
      "Requirement already satisfied: fonttools>=4.22.0 in /Users/elif/opt/anaconda3/lib/python3.9/site-packages (from matplotlib) (4.39.3)\n",
      "Requirement already satisfied: pyparsing>=2.3.1 in /Users/elif/opt/anaconda3/lib/python3.9/site-packages (from matplotlib) (3.0.9)\n",
      "Requirement already satisfied: contourpy>=1.0.1 in /Users/elif/opt/anaconda3/lib/python3.9/site-packages (from matplotlib) (1.0.7)\n",
      "Requirement already satisfied: numpy>=1.20 in /Users/elif/opt/anaconda3/lib/python3.9/site-packages (from matplotlib) (1.23.5)\n",
      "Requirement already satisfied: importlib-resources>=3.2.0 in /Users/elif/opt/anaconda3/lib/python3.9/site-packages (from matplotlib) (5.12.0)\n",
      "Requirement already satisfied: python-dateutil>=2.7 in /Users/elif/opt/anaconda3/lib/python3.9/site-packages (from matplotlib) (2.8.2)\n",
      "Requirement already satisfied: packaging>=20.0 in /Users/elif/opt/anaconda3/lib/python3.9/site-packages (from matplotlib) (23.0)\n",
      "Requirement already satisfied: cycler>=0.10 in /Users/elif/opt/anaconda3/lib/python3.9/site-packages (from matplotlib) (0.11.0)\n",
      "Requirement already satisfied: zipp>=3.1.0 in /Users/elif/opt/anaconda3/lib/python3.9/site-packages (from importlib-resources>=3.2.0->matplotlib) (3.11.0)\n",
      "Requirement already satisfied: six>=1.5 in /Users/elif/opt/anaconda3/lib/python3.9/site-packages (from python-dateutil>=2.7->matplotlib) (1.16.0)\n"
     ]
    }
   ],
   "source": [
    "!pip install pandas\n",
    "!pip install matplotlib\n",
    "import pandas as pd\n",
    "import matplotlib.pyplot as plt\n",
    "from datetime import datetime, timedelta\n",
    "import numpy as np\n",
    "\n"
   ]
  },
  {
   "cell_type": "markdown",
   "id": "6355b2d6-871e-4030-afbf-548791eaa797",
   "metadata": {},
   "source": [
    "At this point we have our data as cvs (comma separated values). If you have a look at the \n",
    "file, it is just values and words. We use some \"pandas\" library to make sense of this values.\n",
    "This turns our cvs file into a table that is readible. \n"
   ]
  },
  {
   "cell_type": "markdown",
   "id": "41d24f4b-d975-404e-9a1e-53f50503a076",
   "metadata": {},
   "source": [
    "### Train set"
   ]
  },
  {
   "cell_type": "code",
   "execution_count": 3,
   "id": "780305b9-0d75-45ca-b8be-2c29ed66b3f2",
   "metadata": {},
   "outputs": [
    {
     "name": "stderr",
     "output_type": "stream",
     "text": [
      "/var/folders/yg/xmn_7fzd29x_t6vxtfn8_gsw0000gn/T/ipykernel_82717/3887744924.py:4: DtypeWarning: Columns (7) have mixed types. Specify dtype option on import or set low_memory=False.\n",
      "  df_train = pd.read_csv('train-Copy1.csv') # now our table is called df_train\n"
     ]
    },
    {
     "data": {
      "text/html": [
       "<div>\n",
       "<style scoped>\n",
       "    .dataframe tbody tr th:only-of-type {\n",
       "        vertical-align: middle;\n",
       "    }\n",
       "\n",
       "    .dataframe tbody tr th {\n",
       "        vertical-align: top;\n",
       "    }\n",
       "\n",
       "    .dataframe thead th {\n",
       "        text-align: right;\n",
       "    }\n",
       "</style>\n",
       "<table border=\"1\" class=\"dataframe\">\n",
       "  <thead>\n",
       "    <tr style=\"text-align: right;\">\n",
       "      <th></th>\n",
       "      <th>Store</th>\n",
       "      <th>DayOfWeek</th>\n",
       "      <th>Date</th>\n",
       "      <th>Sales</th>\n",
       "      <th>Customers</th>\n",
       "      <th>Open</th>\n",
       "      <th>Promo</th>\n",
       "      <th>StateHoliday</th>\n",
       "      <th>SchoolHoliday</th>\n",
       "    </tr>\n",
       "  </thead>\n",
       "  <tbody>\n",
       "    <tr>\n",
       "      <th>0</th>\n",
       "      <td>1</td>\n",
       "      <td>5</td>\n",
       "      <td>31/07/2015</td>\n",
       "      <td>5263</td>\n",
       "      <td>555</td>\n",
       "      <td>1</td>\n",
       "      <td>1</td>\n",
       "      <td>0</td>\n",
       "      <td>1</td>\n",
       "    </tr>\n",
       "    <tr>\n",
       "      <th>1</th>\n",
       "      <td>2</td>\n",
       "      <td>5</td>\n",
       "      <td>31/07/2015</td>\n",
       "      <td>6064</td>\n",
       "      <td>625</td>\n",
       "      <td>1</td>\n",
       "      <td>1</td>\n",
       "      <td>0</td>\n",
       "      <td>1</td>\n",
       "    </tr>\n",
       "    <tr>\n",
       "      <th>2</th>\n",
       "      <td>3</td>\n",
       "      <td>5</td>\n",
       "      <td>31/07/2015</td>\n",
       "      <td>8314</td>\n",
       "      <td>821</td>\n",
       "      <td>1</td>\n",
       "      <td>1</td>\n",
       "      <td>0</td>\n",
       "      <td>1</td>\n",
       "    </tr>\n",
       "    <tr>\n",
       "      <th>3</th>\n",
       "      <td>4</td>\n",
       "      <td>5</td>\n",
       "      <td>31/07/2015</td>\n",
       "      <td>13995</td>\n",
       "      <td>1498</td>\n",
       "      <td>1</td>\n",
       "      <td>1</td>\n",
       "      <td>0</td>\n",
       "      <td>1</td>\n",
       "    </tr>\n",
       "    <tr>\n",
       "      <th>4</th>\n",
       "      <td>5</td>\n",
       "      <td>5</td>\n",
       "      <td>31/07/2015</td>\n",
       "      <td>4822</td>\n",
       "      <td>559</td>\n",
       "      <td>1</td>\n",
       "      <td>1</td>\n",
       "      <td>0</td>\n",
       "      <td>1</td>\n",
       "    </tr>\n",
       "  </tbody>\n",
       "</table>\n",
       "</div>"
      ],
      "text/plain": [
       "   Store  DayOfWeek        Date  Sales  Customers  Open  Promo StateHoliday   \n",
       "0      1          5  31/07/2015   5263        555     1      1            0  \\\n",
       "1      2          5  31/07/2015   6064        625     1      1            0   \n",
       "2      3          5  31/07/2015   8314        821     1      1            0   \n",
       "3      4          5  31/07/2015  13995       1498     1      1            0   \n",
       "4      5          5  31/07/2015   4822        559     1      1            0   \n",
       "\n",
       "   SchoolHoliday  \n",
       "0              1  \n",
       "1              1  \n",
       "2              1  \n",
       "3              1  \n",
       "4              1  "
      ]
     },
     "execution_count": 3,
     "metadata": {},
     "output_type": "execute_result"
    }
   ],
   "source": [
    "# importing the data\n",
    "# visualization to have an overall idea\n",
    "\n",
    "df_train = pd.read_csv('train-Copy1.csv') # now our table is called df_train\n",
    "df_train.head()\n",
    "# shows the first 5 entries of our table. NB: counti ng starts 0, not with 1 on python"
   ]
  },
  {
   "cell_type": "code",
   "execution_count": null,
   "id": "a6bf2302-27d1-4b69-af2b-07d1fca9bee7",
   "metadata": {},
   "outputs": [],
   "source": []
  },
  {
   "cell_type": "code",
   "execution_count": 4,
   "id": "035f50f0-df5e-4a3b-a12a-b122b14eb944",
   "metadata": {},
   "outputs": [
    {
     "name": "stdout",
     "output_type": "stream",
     "text": [
      "         Store  DayOfWeek        Date  Sales  Customers  Open  Promo   \n",
      "0            1          5  31/07/2015   5263        555     1      1  \\\n",
      "1            2          5  31/07/2015   6064        625     1      1   \n",
      "2            3          5  31/07/2015   8314        821     1      1   \n",
      "3            4          5  31/07/2015  13995       1498     1      1   \n",
      "4            5          5  31/07/2015   4822        559     1      1   \n",
      "...        ...        ...         ...    ...        ...   ...    ...   \n",
      "1017204   1111          2  01/01/2013      0          0     0      0   \n",
      "1017205   1112          2  01/01/2013      0          0     0      0   \n",
      "1017206   1113          2  01/01/2013      0          0     0      0   \n",
      "1017207   1114          2  01/01/2013      0          0     0      0   \n",
      "1017208   1115          2  01/01/2013      0          0     0      0   \n",
      "\n",
      "         StateHoliday  SchoolHoliday  \n",
      "0                   0              1  \n",
      "1                   0              1  \n",
      "2                   0              1  \n",
      "3                   0              1  \n",
      "4                   0              1  \n",
      "...               ...            ...  \n",
      "1017204             1              1  \n",
      "1017205             1              1  \n",
      "1017206             1              1  \n",
      "1017207             1              1  \n",
      "1017208             1              1  \n",
      "\n",
      "[1017209 rows x 9 columns]\n"
     ]
    }
   ],
   "source": [
    "df_train['StateHoliday'] = df_train['StateHoliday'].replace(\"0\", 0)\n",
    "\n",
    "mapping = {'a': 1, 'b': 1, 'c': 1, 0: 0}\n",
    "\n",
    "df_train['StateHoliday'] = df_train['StateHoliday'].map(mapping)\n",
    "\n",
    "print(df_train)\n",
    "\n"
   ]
  },
  {
   "cell_type": "code",
   "execution_count": 5,
   "id": "a4985b4c-cece-4627-85ee-6775a82de5db",
   "metadata": {},
   "outputs": [
    {
     "name": "stdout",
     "output_type": "stream",
     "text": [
      "<class 'pandas.core.frame.DataFrame'>\n",
      "RangeIndex: 1017209 entries, 0 to 1017208\n",
      "Data columns (total 9 columns):\n",
      " #   Column         Non-Null Count    Dtype \n",
      "---  ------         --------------    ----- \n",
      " 0   Store          1017209 non-null  int64 \n",
      " 1   DayOfWeek      1017209 non-null  int64 \n",
      " 2   Date           1017209 non-null  object\n",
      " 3   Sales          1017209 non-null  int64 \n",
      " 4   Customers      1017209 non-null  int64 \n",
      " 5   Open           1017209 non-null  int64 \n",
      " 6   Promo          1017209 non-null  int64 \n",
      " 7   StateHoliday   1017209 non-null  int64 \n",
      " 8   SchoolHoliday  1017209 non-null  int64 \n",
      "dtypes: int64(8), object(1)\n",
      "memory usage: 69.8+ MB\n"
     ]
    }
   ],
   "source": [
    "df_train.info()"
   ]
  },
  {
   "cell_type": "code",
   "execution_count": null,
   "id": "5959fbd7-d187-48c9-9b51-da836ea6367e",
   "metadata": {},
   "outputs": [],
   "source": []
  },
  {
   "cell_type": "code",
   "execution_count": 6,
   "id": "c17229a2-d34e-4d90-83ea-892cbe84da99",
   "metadata": {},
   "outputs": [
    {
     "name": "stdout",
     "output_type": "stream",
     "text": [
      "Sample of duplicate rows:\n",
      "Empty DataFrame\n",
      "Columns: [Store, DayOfWeek, Date, Sales, Customers, Open, Promo, StateHoliday, SchoolHoliday]\n",
      "Index: []\n"
     ]
    }
   ],
   "source": [
    "# duplicates\n",
    "# I want to see if the data is clean, so I am checking if there are any duplicate rows. \n",
    "# I used the code provided by chatgpt\n",
    "\n",
    "\n",
    "# Find duplicate rows based on specific columns\n",
    "duplicate_rows_mask = df_train.duplicated( keep=False)\n",
    "\n",
    "# Filter the DataFrame to select only the duplicate rows\n",
    "duplicate_rows = df_train[duplicate_rows_mask]\n",
    "\n",
    "# Print or examine a sample of the duplicate rows\n",
    "print(\"Sample of duplicate rows:\")\n",
    "print(duplicate_rows.head(10))  # Adjust the number to display as needed\n",
    "\n",
    "# no duplicates in train"
   ]
  },
  {
   "cell_type": "code",
   "execution_count": 7,
   "id": "e54b59fd-e868-4f45-8853-208782b64e2c",
   "metadata": {},
   "outputs": [
    {
     "name": "stdout",
     "output_type": "stream",
     "text": [
      "<class 'pandas.core.frame.DataFrame'>\n",
      "RangeIndex: 1017209 entries, 0 to 1017208\n",
      "Data columns (total 9 columns):\n",
      " #   Column         Non-Null Count    Dtype \n",
      "---  ------         --------------    ----- \n",
      " 0   Store          1017209 non-null  int64 \n",
      " 1   DayOfWeek      1017209 non-null  int64 \n",
      " 2   Date           1017209 non-null  object\n",
      " 3   Sales          1017209 non-null  int64 \n",
      " 4   Customers      1017209 non-null  int64 \n",
      " 5   Open           1017209 non-null  int64 \n",
      " 6   Promo          1017209 non-null  int64 \n",
      " 7   StateHoliday   1017209 non-null  int64 \n",
      " 8   SchoolHoliday  1017209 non-null  int64 \n",
      "dtypes: int64(8), object(1)\n",
      "memory usage: 69.8+ MB\n"
     ]
    }
   ],
   "source": [
    "df_train.info()\n",
    "# .info() is a method. it gives us the details of df\n",
    "# it also shows us the titles of the columns, how many entries per column and the data type of the column (integer, string etc)\n",
    "# object dtype refers to a column with mixed data types\n",
    "# in order to perform analysis on our data, datatypes in columns should be homogeneous. we cant work with mixed types\n",
    "# we have to examine further to see how to handle this problem, there isnt really one fits all solution\n"
   ]
  },
  {
   "cell_type": "code",
   "execution_count": 8,
   "id": "9c3c6912-d4d4-42a2-bc5a-233e47defbe7",
   "metadata": {},
   "outputs": [
    {
     "data": {
      "text/plain": [
       "['Store',\n",
       " 'DayOfWeek',\n",
       " 'Date',\n",
       " 'Sales',\n",
       " 'Customers',\n",
       " 'Open',\n",
       " 'Promo',\n",
       " 'StateHoliday',\n",
       " 'SchoolHoliday']"
      ]
     },
     "execution_count": 8,
     "metadata": {},
     "output_type": "execute_result"
    }
   ],
   "source": [
    "list(df_train.columns)\n",
    "#shows us the names of the columns. It is already given on the documentation but still useful to have this"
   ]
  },
  {
   "cell_type": "code",
   "execution_count": null,
   "id": "42793612-8ba9-41b0-90a8-06a3f06b5f58",
   "metadata": {},
   "outputs": [],
   "source": []
  },
  {
   "cell_type": "code",
   "execution_count": null,
   "id": "e8e6d679-0109-447e-9db8-1aa78018ed3b",
   "metadata": {},
   "outputs": [],
   "source": []
  },
  {
   "cell_type": "code",
   "execution_count": 9,
   "id": "83e0b9b1-b221-498e-94d0-7dfa5aa033dd",
   "metadata": {},
   "outputs": [
    {
     "data": {
      "text/plain": [
       "0          31/07/2015\n",
       "1          31/07/2015\n",
       "2          31/07/2015\n",
       "3          31/07/2015\n",
       "4          31/07/2015\n",
       "              ...    \n",
       "1017204    01/01/2013\n",
       "1017205    01/01/2013\n",
       "1017206    01/01/2013\n",
       "1017207    01/01/2013\n",
       "1017208    01/01/2013\n",
       "Name: Date, Length: 1017209, dtype: object"
      ]
     },
     "execution_count": 9,
     "metadata": {},
     "output_type": "execute_result"
    }
   ],
   "source": [
    "# Lets examine one of these \"object\" columns\n",
    "df_train[\"Date\"]\n",
    "#dates are entered in an arbitrary way. This is not cool. Thankfully it is v. easy to address this problem"
   ]
  },
  {
   "cell_type": "code",
   "execution_count": 10,
   "id": "dd11cd14-5222-4679-9767-0ad4504c0e62",
   "metadata": {},
   "outputs": [],
   "source": [
    "# pandas library gives us an option to turn this directly into dates\n",
    "df_train['Date'] = pd.to_datetime(df_train['Date'], format='%d/%m/%Y')"
   ]
  },
  {
   "cell_type": "code",
   "execution_count": null,
   "id": "252799a4-c4aa-4896-b23f-204d89f4d560",
   "metadata": {},
   "outputs": [],
   "source": []
  },
  {
   "cell_type": "code",
   "execution_count": 11,
   "id": "0bdddcce-0443-450d-aee7-9e793199400e",
   "metadata": {},
   "outputs": [
    {
     "name": "stdout",
     "output_type": "stream",
     "text": [
      "<class 'pandas.core.series.Series'>\n",
      "RangeIndex: 1017209 entries, 0 to 1017208\n",
      "Series name: Date\n",
      "Non-Null Count    Dtype         \n",
      "--------------    -----         \n",
      "1017209 non-null  datetime64[ns]\n",
      "dtypes: datetime64[ns](1)\n",
      "memory usage: 7.8 MB\n"
     ]
    }
   ],
   "source": [
    "#checking again to see if the transformation went well\n",
    "df_train[\"Date\"].info()\n",
    "# voila, now our date column is in datetime64[ns]\n",
    "# We still canno perform analysis on this datatype but we can easily turn it into several columns of year and months. We already have the days column in the set"
   ]
  },
  {
   "cell_type": "code",
   "execution_count": null,
   "id": "bc4fbbc7-141e-4e00-bd68-497305d38357",
   "metadata": {},
   "outputs": [],
   "source": []
  },
  {
   "cell_type": "markdown",
   "id": "1bd8b25c-0af4-47e2-a42e-7771165f1eb8",
   "metadata": {},
   "source": [
    "## Encoding\n",
    "(turning categorical/object columns into numeric so that we can have further analysis on them)\n",
    "\n",
    "The following two methods i started and then abandoned. I am keeping them here just for the reference. Also because I like them.\n",
    "\n",
    "Nb: The following code refers to df_train as df instead\n",
    "\n",
    "Eventually since we only have 4 categories ill do it manually lollll\n",
    "do not try this at home, or especially in a professional environment, with larger sets of data :D"
   ]
  },
  {
   "cell_type": "code",
   "execution_count": 12,
   "id": "9fa723ee-622d-420c-b26b-3bdbcfb1d61c",
   "metadata": {},
   "outputs": [],
   "source": [
    "# dropping the columns where store is closed ( sales= 0)\n",
    "\n",
    "#df = df.drop(df[df['quantity'] == 0].index)\n",
    "#df_train = df_train.drop(df_train[df_train['Open'] == 0].index)"
   ]
  },
  {
   "cell_type": "code",
   "execution_count": 14,
   "id": "9f389245-918f-44c2-9906-ee770a011302",
   "metadata": {},
   "outputs": [],
   "source": [
    "# we have one row showing date. we are extracting it to different columns to analyse further\n",
    "\n",
    "# Extract date components\n",
    "df_train['Month'] = df_train['Date'].dt.month\n",
    "df_train['Year'] = df_train['Date'].dt.year"
   ]
  },
  {
   "cell_type": "code",
   "execution_count": 15,
   "id": "75a576b2-e226-49e7-a9bb-ac111e90d15b",
   "metadata": {},
   "outputs": [],
   "source": [
    "# open column, i am hesitant to drop as we will have it in the test set. maybe later find a way to implemet if \n",
    "# open=0 then sales should be marked 0 as well \n",
    "\n",
    "#df_train = df_train.drop(columns=['Open'])"
   ]
  },
  {
   "cell_type": "code",
   "execution_count": 16,
   "id": "171de984-fbfd-4b07-9b91-6b41cce431ff",
   "metadata": {},
   "outputs": [
    {
     "name": "stdout",
     "output_type": "stream",
     "text": [
      "<class 'pandas.core.frame.DataFrame'>\n",
      "RangeIndex: 1017209 entries, 0 to 1017208\n",
      "Data columns (total 11 columns):\n",
      " #   Column         Non-Null Count    Dtype         \n",
      "---  ------         --------------    -----         \n",
      " 0   Store          1017209 non-null  int64         \n",
      " 1   DayOfWeek      1017209 non-null  int64         \n",
      " 2   Date           1017209 non-null  datetime64[ns]\n",
      " 3   Sales          1017209 non-null  int64         \n",
      " 4   Customers      1017209 non-null  int64         \n",
      " 5   Open           1017209 non-null  int64         \n",
      " 6   Promo          1017209 non-null  int64         \n",
      " 7   StateHoliday   1017209 non-null  int64         \n",
      " 8   SchoolHoliday  1017209 non-null  int64         \n",
      " 9   Month          1017209 non-null  int32         \n",
      " 10  Year           1017209 non-null  int32         \n",
      "dtypes: datetime64[ns](1), int32(2), int64(8)\n",
      "memory usage: 77.6 MB\n"
     ]
    }
   ],
   "source": [
    "df_train.info()"
   ]
  },
  {
   "cell_type": "raw",
   "id": "4cacaf2c-4ed7-4bd9-8ea2-d3b050575455",
   "metadata": {},
   "source": [
    "\n",
    "We need to do the same transformations we did to train on test, because the columns should be identical for us to be able to compare them.\n",
    "Later, after having pre processed store dataset we will match it to train and test as well."
   ]
  },
  {
   "cell_type": "markdown",
   "id": "c89b8e50-ad34-42e2-98d9-69f1542441d2",
   "metadata": {},
   "source": [
    "## Test set\n",
    "We have to do the same transformations we did to the train set because they have to be comperable later on when we create our model and want to test it.\n"
   ]
  },
  {
   "cell_type": "code",
   "execution_count": 17,
   "id": "75bac6d5-50e3-46bb-a355-73df3dade868",
   "metadata": {},
   "outputs": [
    {
     "data": {
      "text/html": [
       "<div>\n",
       "<style scoped>\n",
       "    .dataframe tbody tr th:only-of-type {\n",
       "        vertical-align: middle;\n",
       "    }\n",
       "\n",
       "    .dataframe tbody tr th {\n",
       "        vertical-align: top;\n",
       "    }\n",
       "\n",
       "    .dataframe thead th {\n",
       "        text-align: right;\n",
       "    }\n",
       "</style>\n",
       "<table border=\"1\" class=\"dataframe\">\n",
       "  <thead>\n",
       "    <tr style=\"text-align: right;\">\n",
       "      <th></th>\n",
       "      <th>Store</th>\n",
       "      <th>DayOfWeek</th>\n",
       "      <th>Date</th>\n",
       "      <th>Sales</th>\n",
       "      <th>Customers</th>\n",
       "      <th>Open</th>\n",
       "      <th>Promo</th>\n",
       "      <th>StateHoliday</th>\n",
       "      <th>SchoolHoliday</th>\n",
       "    </tr>\n",
       "  </thead>\n",
       "  <tbody>\n",
       "    <tr>\n",
       "      <th>0</th>\n",
       "      <td>1</td>\n",
       "      <td>4</td>\n",
       "      <td>17/09/2015</td>\n",
       "      <td>NaN</td>\n",
       "      <td>NaN</td>\n",
       "      <td>1.0</td>\n",
       "      <td>1</td>\n",
       "      <td>0</td>\n",
       "      <td>0</td>\n",
       "    </tr>\n",
       "    <tr>\n",
       "      <th>1</th>\n",
       "      <td>3</td>\n",
       "      <td>4</td>\n",
       "      <td>17/09/2015</td>\n",
       "      <td>NaN</td>\n",
       "      <td>NaN</td>\n",
       "      <td>1.0</td>\n",
       "      <td>1</td>\n",
       "      <td>0</td>\n",
       "      <td>0</td>\n",
       "    </tr>\n",
       "    <tr>\n",
       "      <th>2</th>\n",
       "      <td>7</td>\n",
       "      <td>4</td>\n",
       "      <td>17/09/2015</td>\n",
       "      <td>NaN</td>\n",
       "      <td>NaN</td>\n",
       "      <td>1.0</td>\n",
       "      <td>1</td>\n",
       "      <td>0</td>\n",
       "      <td>0</td>\n",
       "    </tr>\n",
       "    <tr>\n",
       "      <th>3</th>\n",
       "      <td>8</td>\n",
       "      <td>4</td>\n",
       "      <td>17/09/2015</td>\n",
       "      <td>NaN</td>\n",
       "      <td>NaN</td>\n",
       "      <td>1.0</td>\n",
       "      <td>1</td>\n",
       "      <td>0</td>\n",
       "      <td>0</td>\n",
       "    </tr>\n",
       "    <tr>\n",
       "      <th>4</th>\n",
       "      <td>9</td>\n",
       "      <td>4</td>\n",
       "      <td>17/09/2015</td>\n",
       "      <td>NaN</td>\n",
       "      <td>NaN</td>\n",
       "      <td>1.0</td>\n",
       "      <td>1</td>\n",
       "      <td>0</td>\n",
       "      <td>0</td>\n",
       "    </tr>\n",
       "  </tbody>\n",
       "</table>\n",
       "</div>"
      ],
      "text/plain": [
       "   Store  DayOfWeek        Date  Sales  Customers  Open  Promo StateHoliday   \n",
       "0      1          4  17/09/2015    NaN        NaN   1.0      1            0  \\\n",
       "1      3          4  17/09/2015    NaN        NaN   1.0      1            0   \n",
       "2      7          4  17/09/2015    NaN        NaN   1.0      1            0   \n",
       "3      8          4  17/09/2015    NaN        NaN   1.0      1            0   \n",
       "4      9          4  17/09/2015    NaN        NaN   1.0      1            0   \n",
       "\n",
       "   SchoolHoliday  \n",
       "0              0  \n",
       "1              0  \n",
       "2              0  \n",
       "3              0  \n",
       "4              0  "
      ]
     },
     "execution_count": 17,
     "metadata": {},
     "output_type": "execute_result"
    }
   ],
   "source": [
    "df_test = pd.read_csv('test-Copy1.csv') # now our table is called df_test\n",
    "df_test.head()"
   ]
  },
  {
   "cell_type": "code",
   "execution_count": 18,
   "id": "b283111f-b951-4c56-a138-f72d5c1780cb",
   "metadata": {},
   "outputs": [],
   "source": [
    "df_train['StateHoliday'] = df_train['StateHoliday'].replace(\"0\", 0)\n",
    "\n",
    "mapping_t = {'a': 1, \"0\": 0}\n",
    "\n",
    "df_test['StateHoliday'] = df_test['StateHoliday'].map(mapping_t)"
   ]
  },
  {
   "cell_type": "code",
   "execution_count": 19,
   "id": "64283765-a891-4e05-a4a2-dcea33c4ef04",
   "metadata": {},
   "outputs": [
    {
     "name": "stdout",
     "output_type": "stream",
     "text": [
      "Count of null values in each column:\n",
      "Sales        41088\n",
      "Customers    41088\n",
      "Open            11\n",
      "dtype: int64\n",
      "\n",
      "Whereabouts of null values:\n",
      "       Store  DayOfWeek        Date  Sales  Customers  Open  Promo   \n",
      "0          1          4  17/09/2015    NaN        NaN   1.0      1  \\\n",
      "1          3          4  17/09/2015    NaN        NaN   1.0      1   \n",
      "2          7          4  17/09/2015    NaN        NaN   1.0      1   \n",
      "3          8          4  17/09/2015    NaN        NaN   1.0      1   \n",
      "4          9          4  17/09/2015    NaN        NaN   1.0      1   \n",
      "...      ...        ...         ...    ...        ...   ...    ...   \n",
      "41083   1111          6  01/08/2015    NaN        NaN   1.0      0   \n",
      "41084   1112          6  01/08/2015    NaN        NaN   1.0      0   \n",
      "41085   1113          6  01/08/2015    NaN        NaN   1.0      0   \n",
      "41086   1114          6  01/08/2015    NaN        NaN   1.0      0   \n",
      "41087   1115          6  01/08/2015    NaN        NaN   1.0      0   \n",
      "\n",
      "       StateHoliday  SchoolHoliday  \n",
      "0                 0              0  \n",
      "1                 0              0  \n",
      "2                 0              0  \n",
      "3                 0              0  \n",
      "4                 0              0  \n",
      "...             ...            ...  \n",
      "41083             0              0  \n",
      "41084             0              0  \n",
      "41085             0              0  \n",
      "41086             0              0  \n",
      "41087             0              1  \n",
      "\n",
      "[41088 rows x 9 columns]\n"
     ]
    }
   ],
   "source": [
    "# null value check \n",
    "null_counts_test = df_test.isnull().sum()\n",
    "\n",
    "# Filter columns with null values\n",
    "columns_with_null_test = null_counts_test[null_counts_test > 0]\n",
    "\n",
    "# Print the count of null values in each column\n",
    "print(\"Count of null values in each column:\")\n",
    "print(columns_with_null_test)\n",
    "\n",
    "# Get the whereabouts of null values\n",
    "null_locations_test = df_test[df_test.isnull().any(axis=1)]\n",
    "\n",
    "# Print the whereabouts of null values\n",
    "print(\"\\nWhereabouts of null values:\")\n",
    "print(null_locations_test)\n",
    "\n",
    "# as written on documentation, sales and customers are missing we will figure it out later.\n",
    "#? is customer even relevant?\n",
    "# there is also 11 values in open. its a very s. minority, we can decide how to deal with it\n"
   ]
  },
  {
   "cell_type": "code",
   "execution_count": null,
   "id": "d8e315da-79e2-48f6-89d9-90eddf8d38a5",
   "metadata": {},
   "outputs": [],
   "source": []
  },
  {
   "cell_type": "code",
   "execution_count": 20,
   "id": "a02ca78c-0c20-4b5e-ac46-0b21ec75f7ca",
   "metadata": {},
   "outputs": [
    {
     "name": "stdout",
     "output_type": "stream",
     "text": [
      "Sample of duplicate rows:\n",
      "Empty DataFrame\n",
      "Columns: [Store, DayOfWeek, Date, Sales, Customers, Open, Promo, StateHoliday, SchoolHoliday]\n",
      "Index: []\n"
     ]
    }
   ],
   "source": [
    "# duplicates\n",
    "\n",
    "\n",
    "# Find duplicate rows based on specific columns\n",
    "duplicate_rows_mask_test = df_test.duplicated( keep=False)\n",
    "\n",
    "# Filter the DataFrame to select only the duplicate rows\n",
    "duplicate_rows_test = df_test[duplicate_rows_mask_test]\n",
    "\n",
    "# Print or examine a sample of the duplicate rows\n",
    "print(\"Sample of duplicate rows:\")\n",
    "print(duplicate_rows_test.head(10))  # Adjust the number to display as needed\n",
    "\n",
    "# no duplicates in test"
   ]
  },
  {
   "cell_type": "code",
   "execution_count": null,
   "id": "5c0ba580-655b-43aa-ab80-87f3fb1f0a04",
   "metadata": {},
   "outputs": [],
   "source": []
  },
  {
   "cell_type": "code",
   "execution_count": null,
   "id": "777ee4ce-2c99-4a80-93a6-158110235cac",
   "metadata": {},
   "outputs": [],
   "source": []
  },
  {
   "cell_type": "code",
   "execution_count": 21,
   "id": "4a9f7835-9c0c-4efa-9624-dffa2b09f31e",
   "metadata": {},
   "outputs": [
    {
     "name": "stdout",
     "output_type": "stream",
     "text": [
      "<class 'pandas.core.frame.DataFrame'>\n",
      "RangeIndex: 41088 entries, 0 to 41087\n",
      "Data columns (total 9 columns):\n",
      " #   Column         Non-Null Count  Dtype  \n",
      "---  ------         --------------  -----  \n",
      " 0   Store          41088 non-null  int64  \n",
      " 1   DayOfWeek      41088 non-null  int64  \n",
      " 2   Date           41088 non-null  object \n",
      " 3   Sales          0 non-null      float64\n",
      " 4   Customers      0 non-null      float64\n",
      " 5   Open           41077 non-null  float64\n",
      " 6   Promo          41088 non-null  int64  \n",
      " 7   StateHoliday   41088 non-null  int64  \n",
      " 8   SchoolHoliday  41088 non-null  int64  \n",
      "dtypes: float64(3), int64(5), object(1)\n",
      "memory usage: 2.8+ MB\n"
     ]
    }
   ],
   "source": [
    "df_test.info()\n",
    "# to see the dset. Identical columns with the same initial datasets to the train file.\n",
    "#except, it is missing our target variable (sales) which we will create the model to predict but apparently we cannot, because we were supposed \n",
    "#to use the test set to check accuracy, but looks like we cannot loll\n",
    "# i will still pre process the set to match train and then we will see whats what\n",
    "# possible solutions include asking the instructer wtf is that or\n",
    "#to disregard the test set completely and  doing a manual train/test split from the train set we already have"
   ]
  },
  {
   "cell_type": "code",
   "execution_count": 22,
   "id": "3711a436-ec11-457a-bfb2-5fa16a635dff",
   "metadata": {},
   "outputs": [],
   "source": [
    "# changing the format of the date\n",
    "df_test['Date'] = pd.to_datetime(df_test['Date'], format='%d/%m/%Y')"
   ]
  },
  {
   "cell_type": "code",
   "execution_count": 24,
   "id": "2ee91dbe-0866-4a95-bfb4-38f85879099b",
   "metadata": {},
   "outputs": [],
   "source": [
    "# we have one row showing date. we are extracting it to different columns to analyse further\n",
    "\n",
    "# Extract date components\n",
    "df_test['Month'] = df_test['Date'].dt.month\n",
    "df_test['Year'] = df_test['Date'].dt.year"
   ]
  },
  {
   "cell_type": "markdown",
   "id": "881b54dd-4bff-41ce-80c0-88e748f4f129",
   "metadata": {},
   "source": [
    "## Store file"
   ]
  },
  {
   "cell_type": "code",
   "execution_count": 25,
   "id": "cd8101e3-ab90-4f29-b755-6166cb22aeee",
   "metadata": {},
   "outputs": [
    {
     "data": {
      "text/html": [
       "<div>\n",
       "<style scoped>\n",
       "    .dataframe tbody tr th:only-of-type {\n",
       "        vertical-align: middle;\n",
       "    }\n",
       "\n",
       "    .dataframe tbody tr th {\n",
       "        vertical-align: top;\n",
       "    }\n",
       "\n",
       "    .dataframe thead th {\n",
       "        text-align: right;\n",
       "    }\n",
       "</style>\n",
       "<table border=\"1\" class=\"dataframe\">\n",
       "  <thead>\n",
       "    <tr style=\"text-align: right;\">\n",
       "      <th></th>\n",
       "      <th>Store</th>\n",
       "      <th>StoreType</th>\n",
       "      <th>Assortment</th>\n",
       "      <th>CompetitionDistance</th>\n",
       "      <th>CompetitionOpenSinceMonth</th>\n",
       "      <th>CompetitionOpenSinceYear</th>\n",
       "      <th>Promo2</th>\n",
       "      <th>Promo2SinceWeek</th>\n",
       "      <th>Promo2SinceYear</th>\n",
       "      <th>PromoInterval</th>\n",
       "    </tr>\n",
       "  </thead>\n",
       "  <tbody>\n",
       "    <tr>\n",
       "      <th>0</th>\n",
       "      <td>1</td>\n",
       "      <td>c</td>\n",
       "      <td>a</td>\n",
       "      <td>1270.0</td>\n",
       "      <td>9.0</td>\n",
       "      <td>2008.0</td>\n",
       "      <td>0</td>\n",
       "      <td>NaN</td>\n",
       "      <td>NaN</td>\n",
       "      <td>NaN</td>\n",
       "    </tr>\n",
       "    <tr>\n",
       "      <th>1</th>\n",
       "      <td>2</td>\n",
       "      <td>a</td>\n",
       "      <td>a</td>\n",
       "      <td>570.0</td>\n",
       "      <td>11.0</td>\n",
       "      <td>2007.0</td>\n",
       "      <td>1</td>\n",
       "      <td>13.0</td>\n",
       "      <td>2010.0</td>\n",
       "      <td>Jan,Apr,Jul,Oct</td>\n",
       "    </tr>\n",
       "    <tr>\n",
       "      <th>2</th>\n",
       "      <td>3</td>\n",
       "      <td>a</td>\n",
       "      <td>a</td>\n",
       "      <td>14130.0</td>\n",
       "      <td>12.0</td>\n",
       "      <td>2006.0</td>\n",
       "      <td>1</td>\n",
       "      <td>14.0</td>\n",
       "      <td>2011.0</td>\n",
       "      <td>Jan,Apr,Jul,Oct</td>\n",
       "    </tr>\n",
       "    <tr>\n",
       "      <th>3</th>\n",
       "      <td>4</td>\n",
       "      <td>c</td>\n",
       "      <td>c</td>\n",
       "      <td>620.0</td>\n",
       "      <td>9.0</td>\n",
       "      <td>2009.0</td>\n",
       "      <td>0</td>\n",
       "      <td>NaN</td>\n",
       "      <td>NaN</td>\n",
       "      <td>NaN</td>\n",
       "    </tr>\n",
       "    <tr>\n",
       "      <th>4</th>\n",
       "      <td>5</td>\n",
       "      <td>a</td>\n",
       "      <td>a</td>\n",
       "      <td>29910.0</td>\n",
       "      <td>4.0</td>\n",
       "      <td>2015.0</td>\n",
       "      <td>0</td>\n",
       "      <td>NaN</td>\n",
       "      <td>NaN</td>\n",
       "      <td>NaN</td>\n",
       "    </tr>\n",
       "  </tbody>\n",
       "</table>\n",
       "</div>"
      ],
      "text/plain": [
       "   Store StoreType Assortment  CompetitionDistance  CompetitionOpenSinceMonth   \n",
       "0      1         c          a               1270.0                        9.0  \\\n",
       "1      2         a          a                570.0                       11.0   \n",
       "2      3         a          a              14130.0                       12.0   \n",
       "3      4         c          c                620.0                        9.0   \n",
       "4      5         a          a              29910.0                        4.0   \n",
       "\n",
       "   CompetitionOpenSinceYear  Promo2  Promo2SinceWeek  Promo2SinceYear   \n",
       "0                    2008.0       0              NaN              NaN  \\\n",
       "1                    2007.0       1             13.0           2010.0   \n",
       "2                    2006.0       1             14.0           2011.0   \n",
       "3                    2009.0       0              NaN              NaN   \n",
       "4                    2015.0       0              NaN              NaN   \n",
       "\n",
       "     PromoInterval  \n",
       "0              NaN  \n",
       "1  Jan,Apr,Jul,Oct  \n",
       "2  Jan,Apr,Jul,Oct  \n",
       "3              NaN  \n",
       "4              NaN  "
      ]
     },
     "execution_count": 25,
     "metadata": {},
     "output_type": "execute_result"
    }
   ],
   "source": [
    "df_store = pd.read_csv('store-Copy1.csv') # now our table is called df_store\n",
    "df_store.head()"
   ]
  },
  {
   "cell_type": "code",
   "execution_count": 26,
   "id": "f4d1dfe6-8503-4609-9d54-3c4f5a70409c",
   "metadata": {},
   "outputs": [
    {
     "name": "stdout",
     "output_type": "stream",
     "text": [
      "Sample of duplicate rows:\n",
      "Empty DataFrame\n",
      "Columns: [Store, StoreType, Assortment, CompetitionDistance, CompetitionOpenSinceMonth, CompetitionOpenSinceYear, Promo2, Promo2SinceWeek, Promo2SinceYear, PromoInterval]\n",
      "Index: []\n"
     ]
    }
   ],
   "source": [
    "# duplicates\n",
    "\n",
    "\n",
    "# Find duplicate rows based on specific columns\n",
    "duplicate_rows_mask_store = df_store.duplicated( keep=False)\n",
    "\n",
    "# Filter the DataFrame to select only the duplicate rows\n",
    "duplicate_rows_store = df_store[duplicate_rows_mask_store]\n",
    "\n",
    "# Print or examine a sample of the duplicate rows\n",
    "print(\"Sample of duplicate rows:\")\n",
    "print(duplicate_rows_store.head(10))  # Adjust the number to display as needed\n",
    "\n",
    "# no duplicates in store"
   ]
  },
  {
   "cell_type": "code",
   "execution_count": null,
   "id": "f6a6899d-4862-4f0c-afa3-959aa23cb7bf",
   "metadata": {},
   "outputs": [],
   "source": []
  },
  {
   "cell_type": "code",
   "execution_count": 27,
   "id": "4a04a5b3-f966-4985-8a59-b2fa9e56c390",
   "metadata": {},
   "outputs": [
    {
     "name": "stdout",
     "output_type": "stream",
     "text": [
      "Count of null values in each column:\n",
      "CompetitionDistance            3\n",
      "CompetitionOpenSinceMonth    354\n",
      "CompetitionOpenSinceYear     354\n",
      "Promo2SinceWeek              544\n",
      "Promo2SinceYear              544\n",
      "PromoInterval                544\n",
      "dtype: int64\n",
      "\n",
      "Whereabouts of null values:\n",
      "      Store StoreType Assortment  CompetitionDistance   \n",
      "0         1         c          a               1270.0  \\\n",
      "3         4         c          c                620.0   \n",
      "4         5         a          a              29910.0   \n",
      "5         6         a          a                310.0   \n",
      "6         7         a          c              24000.0   \n",
      "...     ...       ...        ...                  ...   \n",
      "1109   1110         c          c                900.0   \n",
      "1111   1112         c          c               1880.0   \n",
      "1112   1113         a          c               9260.0   \n",
      "1113   1114         a          c                870.0   \n",
      "1114   1115         d          c               5350.0   \n",
      "\n",
      "      CompetitionOpenSinceMonth  CompetitionOpenSinceYear  Promo2   \n",
      "0                           9.0                    2008.0       0  \\\n",
      "3                           9.0                    2009.0       0   \n",
      "4                           4.0                    2015.0       0   \n",
      "5                          12.0                    2013.0       0   \n",
      "6                           4.0                    2013.0       0   \n",
      "...                         ...                       ...     ...   \n",
      "1109                        9.0                    2010.0       0   \n",
      "1111                        4.0                    2006.0       0   \n",
      "1112                        NaN                       NaN       0   \n",
      "1113                        NaN                       NaN       0   \n",
      "1114                        NaN                       NaN       1   \n",
      "\n",
      "      Promo2SinceWeek  Promo2SinceYear     PromoInterval  \n",
      "0                 NaN              NaN               NaN  \n",
      "3                 NaN              NaN               NaN  \n",
      "4                 NaN              NaN               NaN  \n",
      "5                 NaN              NaN               NaN  \n",
      "6                 NaN              NaN               NaN  \n",
      "...               ...              ...               ...  \n",
      "1109              NaN              NaN               NaN  \n",
      "1111              NaN              NaN               NaN  \n",
      "1112              NaN              NaN               NaN  \n",
      "1113              NaN              NaN               NaN  \n",
      "1114             22.0           2012.0  Mar,Jun,Sept,Dec  \n",
      "\n",
      "[750 rows x 10 columns]\n"
     ]
    }
   ],
   "source": [
    "# null value \n",
    "null_counts_store = df_store.isnull().sum()\n",
    "\n",
    "# Filter columns with null values\n",
    "columns_with_null_store = null_counts_store[null_counts_store > 0]\n",
    "\n",
    "# Print the count of null values in each column\n",
    "print(\"Count of null values in each column:\")\n",
    "print(columns_with_null_store)\n",
    "\n",
    "# Get the whereabouts of null values\n",
    "null_locations_store = df_store[df_store.isnull().any(axis=1)]\n",
    "\n",
    "# Print the whereabouts of null values\n",
    "print(\"\\nWhereabouts of null values:\")\n",
    "print(null_locations_store)\n",
    "\n",
    "# given there are 1115 columns, nulls of 354/544 are high. first analyse the relevance, then if needed to keep, find the adequate method\n"
   ]
  },
  {
   "cell_type": "code",
   "execution_count": null,
   "id": "ce8ffe7f-c204-4914-b4a0-711496054a34",
   "metadata": {},
   "outputs": [],
   "source": []
  },
  {
   "cell_type": "code",
   "execution_count": 28,
   "id": "d2cdeda6-47b9-4cc7-beb9-355896b17abf",
   "metadata": {},
   "outputs": [],
   "source": [
    "# yeah if we wanna work with it we again need to fix tthe object dtypes --> storetype(a,b,c,d again, we will do the same as the stateholiday)\n",
    "# assortment(a.b.c: the same) ; promointerval (the consecutive intervals in which Promo2 is re- started, naming the months the \n",
    "#promotion is started anew. e.g., \"Feb,May,Aug,Nov\" means each round of the coupon based mailing campaign starts in February, May, August,\n",
    "#November of any given year for that store, as the coupons, mostly for a \n",
    "#discount on certain products are usually valid for three months, and a new round of mail needs to be sent to customers just before those coupons have expired)\n",
    "# not sure if i understand the last variable"
   ]
  },
  {
   "cell_type": "code",
   "execution_count": 29,
   "id": "49fbce7e-846e-4876-9e84-2cfad887a48d",
   "metadata": {},
   "outputs": [
    {
     "data": {
      "text/plain": [
       "544"
      ]
     },
     "execution_count": 29,
     "metadata": {},
     "output_type": "execute_result"
    }
   ],
   "source": [
    "# looking deeper into promo interval\n",
    "\n",
    "df_store[\"PromoInterval\"].unique()\n",
    "\n",
    "# map it to 3\n",
    "\n",
    "df_store['PromoInterval'].isnull().sum()\n",
    "# 544/1115 is missing "
   ]
  },
  {
   "cell_type": "code",
   "execution_count": null,
   "id": "0dfcd7bf-18e2-4547-92e5-5d020ed2dc11",
   "metadata": {},
   "outputs": [],
   "source": []
  },
  {
   "cell_type": "code",
   "execution_count": 30,
   "id": "d38bf2b8-1acd-4f26-99cb-496eb37a104d",
   "metadata": {},
   "outputs": [
    {
     "data": {
      "text/plain": [
       "array(['a', 'c', 'b'], dtype=object)"
      ]
     },
     "execution_count": 30,
     "metadata": {},
     "output_type": "execute_result"
    }
   ],
   "source": [
    "# looking deeper into assortment\n",
    "\n",
    "df_store[\"Assortment\"].unique()\n",
    "\n",
    "# a (1) = basic, b (2) = extra, c (3) = extended\n",
    "\n",
    "#df_store['Assortment'].isnull().sum()\n",
    "# no missing"
   ]
  },
  {
   "cell_type": "code",
   "execution_count": null,
   "id": "a0e91e13-723a-40c1-aed2-1dfd91efaa63",
   "metadata": {},
   "outputs": [],
   "source": []
  },
  {
   "cell_type": "code",
   "execution_count": 31,
   "id": "8c06ecef-b17c-4cd2-bfb1-6870e692b06e",
   "metadata": {},
   "outputs": [
    {
     "data": {
      "text/plain": [
       "0"
      ]
     },
     "execution_count": 31,
     "metadata": {},
     "output_type": "execute_result"
    }
   ],
   "source": [
    "# looking deeper into StoreType\n",
    "\n",
    "df_store[\"StoreType\"].unique()\n",
    "\n",
    "# a, b ,c, d: map it to 4\n",
    "\n",
    "df_store['StoreType'].isnull().sum()\n",
    "# no missing"
   ]
  },
  {
   "cell_type": "code",
   "execution_count": null,
   "id": "fafda6db-df10-40f6-a7b2-40808d519ca0",
   "metadata": {},
   "outputs": [],
   "source": []
  },
  {
   "cell_type": "code",
   "execution_count": null,
   "id": "9c0b9804-8a90-4134-a2a6-6550c1903468",
   "metadata": {},
   "outputs": [],
   "source": []
  },
  {
   "cell_type": "markdown",
   "id": "c082579d-2e5a-4f93-9272-f51de917304f",
   "metadata": {},
   "source": [
    "## Encoding"
   ]
  },
  {
   "cell_type": "code",
   "execution_count": 32,
   "id": "7d4737a0-f302-42a6-a50d-3a18a8d00f01",
   "metadata": {},
   "outputs": [],
   "source": [
    "# encoding for store \n",
    "\n",
    "# One-hot encoding for StoreType in the stores dataframe\n",
    "df_store = pd.get_dummies(df_store, columns=['StoreType'], prefix='StoreType')\n",
    "#encoding also store assortment\n",
    "df_store = pd.get_dummies(df_store, columns=['Assortment'], prefix='Assortment')\n",
    "\n",
    "# One-hot encoding for DayOfWeek in the train dataframe\n",
    "df_train = pd.get_dummies(df_train, columns=['DayOfWeek'], prefix='DayOfWeek')\n",
    "df_test = pd.get_dummies(df_test, columns=['DayOfWeek'], prefix='DayOfWeek')\n",
    "\n"
   ]
  },
  {
   "cell_type": "code",
   "execution_count": 33,
   "id": "5d370672-5bef-48fd-8a7e-97b30e795d57",
   "metadata": {},
   "outputs": [
    {
     "name": "stdout",
     "output_type": "stream",
     "text": [
      "<class 'pandas.core.frame.DataFrame'>\n",
      "RangeIndex: 1115 entries, 0 to 1114\n",
      "Data columns (total 15 columns):\n",
      " #   Column                     Non-Null Count  Dtype  \n",
      "---  ------                     --------------  -----  \n",
      " 0   Store                      1115 non-null   int64  \n",
      " 1   CompetitionDistance        1112 non-null   float64\n",
      " 2   CompetitionOpenSinceMonth  761 non-null    float64\n",
      " 3   CompetitionOpenSinceYear   761 non-null    float64\n",
      " 4   Promo2                     1115 non-null   int64  \n",
      " 5   Promo2SinceWeek            571 non-null    float64\n",
      " 6   Promo2SinceYear            571 non-null    float64\n",
      " 7   PromoInterval              571 non-null    object \n",
      " 8   StoreType_a                1115 non-null   bool   \n",
      " 9   StoreType_b                1115 non-null   bool   \n",
      " 10  StoreType_c                1115 non-null   bool   \n",
      " 11  StoreType_d                1115 non-null   bool   \n",
      " 12  Assortment_a               1115 non-null   bool   \n",
      " 13  Assortment_b               1115 non-null   bool   \n",
      " 14  Assortment_c               1115 non-null   bool   \n",
      "dtypes: bool(7), float64(5), int64(2), object(1)\n",
      "memory usage: 77.4+ KB\n"
     ]
    }
   ],
   "source": [
    "df_store.info()"
   ]
  },
  {
   "cell_type": "raw",
   "id": "d911347d-d920-47eb-a09b-1c74d88a0b8e",
   "metadata": {},
   "source": [
    " we will imputate the missing values using mice library, however when we are considering what to keep and drop we will remember \n",
    " the # of missing values: \n",
    "\n",
    "Count of null values in each column:\n",
    "CompetitionDistance            3\n",
    "CompetitionOpenSinceMonth    354\n",
    "CompetitionOpenSinceYear     354\n",
    "Promo2SinceWeek              544\n",
    "Promo2SinceYear              544\n",
    "PromoInterval                544"
   ]
  },
  {
   "cell_type": "code",
   "execution_count": 34,
   "id": "c1bacc8e-b810-402e-81ad-798b168fe4e1",
   "metadata": {},
   "outputs": [],
   "source": [
    "# df_store.shape\n",
    "# had 1115 entries, and 544 missing \n"
   ]
  },
  {
   "cell_type": "code",
   "execution_count": 35,
   "id": "9f5ccc54-9fa7-4e89-bada-5c1d37360192",
   "metadata": {},
   "outputs": [],
   "source": [
    "# imputing before encoding"
   ]
  },
  {
   "cell_type": "code",
   "execution_count": 36,
   "id": "a583cd52-1c5c-452f-8e2d-92c5453051ef",
   "metadata": {},
   "outputs": [],
   "source": [
    "\n",
    "# promo related 3 columns are missing for 544 entries that are not participating.\n",
    "#so we fill it with 0\n",
    "df_store[\"Promo2SinceWeek\"] = df_store[\"Promo2SinceWeek\"].fillna(0)\n",
    "df_store[\"Promo2SinceYear\"] = df_store[\"Promo2SinceYear\"].fillna(0)\n",
    "df_store[\"PromoInterval\"] = df_store[\"PromoInterval\"].fillna(0)\n"
   ]
  },
  {
   "cell_type": "code",
   "execution_count": 37,
   "id": "50a36950-1602-4f51-a5d9-fa6b07b4ebb9",
   "metadata": {},
   "outputs": [
    {
     "name": "stdout",
     "output_type": "stream",
     "text": [
      "Requirement already satisfied: scikit-learn in /Users/elif/opt/anaconda3/lib/python3.9/site-packages (1.2.2)\n",
      "Requirement already satisfied: numpy>=1.17.3 in /Users/elif/opt/anaconda3/lib/python3.9/site-packages (from scikit-learn) (1.23.5)\n",
      "Requirement already satisfied: scipy>=1.3.2 in /Users/elif/opt/anaconda3/lib/python3.9/site-packages (from scikit-learn) (1.10.1)\n",
      "Requirement already satisfied: joblib>=1.1.1 in /Users/elif/opt/anaconda3/lib/python3.9/site-packages (from scikit-learn) (1.2.0)\n",
      "Requirement already satisfied: threadpoolctl>=2.0.0 in /Users/elif/opt/anaconda3/lib/python3.9/site-packages (from scikit-learn) (3.1.0)\n"
     ]
    }
   ],
   "source": [
    "# imputation for distance\n",
    "!pip install scikit-learn\n",
    "import pandas as pd\n",
    "from sklearn.experimental import enable_iterative_imputer\n",
    "from sklearn.impute import IterativeImputer\n"
   ]
  },
  {
   "cell_type": "code",
   "execution_count": 38,
   "id": "c5388e2f-c8dc-442d-8036-bd474f276111",
   "metadata": {},
   "outputs": [],
   "source": [
    "columns_to_impute = ['CompetitionDistance', 'CompetitionOpenSinceMonth', \"CompetitionOpenSinceYear\"]\n",
    "imputer = IterativeImputer(max_iter=10, random_state=0)\n",
    "df_imputed_columns = imputer.fit_transform(df_store[columns_to_impute])\n",
    "df_imputed_columns = pd.DataFrame(df_imputed_columns, columns=columns_to_impute)\n",
    "df_store[columns_to_impute] = df_imputed_columns"
   ]
  },
  {
   "cell_type": "code",
   "execution_count": 39,
   "id": "358d9b1a-e8ad-4c42-8ab9-4f8124fe0a87",
   "metadata": {},
   "outputs": [],
   "source": [
    "# now no missing values in store set"
   ]
  },
  {
   "cell_type": "code",
   "execution_count": 40,
   "id": "fa0656e5-0114-40d5-b3ca-4696e59c739b",
   "metadata": {},
   "outputs": [
    {
     "name": "stdout",
     "output_type": "stream",
     "text": [
      "<class 'pandas.core.frame.DataFrame'>\n",
      "RangeIndex: 1115 entries, 0 to 1114\n",
      "Data columns (total 15 columns):\n",
      " #   Column                     Non-Null Count  Dtype  \n",
      "---  ------                     --------------  -----  \n",
      " 0   Store                      1115 non-null   int64  \n",
      " 1   CompetitionDistance        1115 non-null   float64\n",
      " 2   CompetitionOpenSinceMonth  1115 non-null   float64\n",
      " 3   CompetitionOpenSinceYear   1115 non-null   float64\n",
      " 4   Promo2                     1115 non-null   int64  \n",
      " 5   Promo2SinceWeek            1115 non-null   float64\n",
      " 6   Promo2SinceYear            1115 non-null   float64\n",
      " 7   PromoInterval              1115 non-null   object \n",
      " 8   StoreType_a                1115 non-null   bool   \n",
      " 9   StoreType_b                1115 non-null   bool   \n",
      " 10  StoreType_c                1115 non-null   bool   \n",
      " 11  StoreType_d                1115 non-null   bool   \n",
      " 12  Assortment_a               1115 non-null   bool   \n",
      " 13  Assortment_b               1115 non-null   bool   \n",
      " 14  Assortment_c               1115 non-null   bool   \n",
      "dtypes: bool(7), float64(5), int64(2), object(1)\n",
      "memory usage: 77.4+ KB\n"
     ]
    }
   ],
   "source": [
    "df_store.info()"
   ]
  },
  {
   "cell_type": "code",
   "execution_count": null,
   "id": "76387c3c-8fab-4add-a917-0c15308e01c2",
   "metadata": {},
   "outputs": [],
   "source": []
  },
  {
   "cell_type": "code",
   "execution_count": 41,
   "id": "8f2c680e-f9c7-4e92-b497-1c67dcc7e911",
   "metadata": {},
   "outputs": [],
   "source": [
    "\n",
    "\n",
    "# Function to convert Promo2SinceWeek and Promo2SinceYear to a datetime object\n",
    "def convert_week_year_to_date(week, year):\n",
    "    if pd.isna(week) or pd.isna(year) or week == 0 or year == 0:\n",
    "        return np.nan\n",
    "    first_day_of_year = datetime.strptime(f'{int(year)}-01-01', '%Y-%m-%d')\n",
    "    promo_date = first_day_of_year + timedelta(weeks=(int(week)-1))\n",
    "    return promo_date\n",
    "\n",
    "# Apply the function to create a new datetime column\n",
    "df_store['Promo2StartDate'] = df_store.apply(lambda row: convert_week_year_to_date(row['Promo2SinceWeek'], row['Promo2SinceYear']), axis=1)\n",
    "\n",
    "\n",
    "\n"
   ]
  },
  {
   "cell_type": "code",
   "execution_count": 42,
   "id": "f2918867-6270-44aa-90d4-699ba2b6cb37",
   "metadata": {},
   "outputs": [
    {
     "data": {
      "text/plain": [
       "Store                          0\n",
       "CompetitionDistance            0\n",
       "CompetitionOpenSinceMonth      0\n",
       "CompetitionOpenSinceYear       0\n",
       "Promo2                         0\n",
       "Promo2SinceWeek                0\n",
       "Promo2SinceYear                0\n",
       "PromoInterval                  0\n",
       "StoreType_a                    0\n",
       "StoreType_b                    0\n",
       "StoreType_c                    0\n",
       "StoreType_d                    0\n",
       "Assortment_a                   0\n",
       "Assortment_b                   0\n",
       "Assortment_c                   0\n",
       "Promo2StartDate              544\n",
       "dtype: int64"
      ]
     },
     "execution_count": 42,
     "metadata": {},
     "output_type": "execute_result"
    }
   ],
   "source": [
    "df_store.isnull().sum()"
   ]
  },
  {
   "cell_type": "code",
   "execution_count": null,
   "id": "d14bd793-241f-46d7-9096-e50b7c289cd6",
   "metadata": {},
   "outputs": [],
   "source": []
  },
  {
   "cell_type": "code",
   "execution_count": null,
   "id": "c20aff67-9714-4d47-a8f7-b914bed1cbce",
   "metadata": {},
   "outputs": [],
   "source": []
  },
  {
   "cell_type": "code",
   "execution_count": 43,
   "id": "cb2db55c-a0a1-4917-9fef-931bb86e6b6c",
   "metadata": {},
   "outputs": [
    {
     "name": "stdout",
     "output_type": "stream",
     "text": [
      "\n",
      "DataFrame after merging and converting to datetime:\n",
      "<class 'pandas.core.frame.DataFrame'>\n",
      "RangeIndex: 1115 entries, 0 to 1114\n",
      "Data columns (total 17 columns):\n",
      " #   Column                     Non-Null Count  Dtype         \n",
      "---  ------                     --------------  -----         \n",
      " 0   Store                      1115 non-null   int64         \n",
      " 1   CompetitionDistance        1115 non-null   float64       \n",
      " 2   CompetitionOpenSinceMonth  1115 non-null   int64         \n",
      " 3   CompetitionOpenSinceYear   1115 non-null   int64         \n",
      " 4   Promo2                     1115 non-null   int64         \n",
      " 5   Promo2SinceWeek            1115 non-null   float64       \n",
      " 6   Promo2SinceYear            1115 non-null   float64       \n",
      " 7   PromoInterval              1115 non-null   object        \n",
      " 8   StoreType_a                1115 non-null   bool          \n",
      " 9   StoreType_b                1115 non-null   bool          \n",
      " 10  StoreType_c                1115 non-null   bool          \n",
      " 11  StoreType_d                1115 non-null   bool          \n",
      " 12  Assortment_a               1115 non-null   bool          \n",
      " 13  Assortment_b               1115 non-null   bool          \n",
      " 14  Assortment_c               1115 non-null   bool          \n",
      " 15  Promo2StartDate            571 non-null    datetime64[ns]\n",
      " 16  competition_open_date      1115 non-null   datetime64[ns]\n",
      "dtypes: bool(7), datetime64[ns](2), float64(3), int64(4), object(1)\n",
      "memory usage: 94.9+ KB\n",
      "None\n"
     ]
    }
   ],
   "source": [
    "# getting competition open since into date as well to calculate the time in between\n",
    "\n",
    "\n",
    "\n",
    "#turning the flooats into integers first\n",
    "df_store['CompetitionOpenSinceMonth'] = df_store['CompetitionOpenSinceMonth'].astype(int)\n",
    "df_store['CompetitionOpenSinceYear'] = df_store['CompetitionOpenSinceYear'].astype(int)\n",
    "\n",
    "# Step 1: Create a new column combining 'competition_open_since_year' and 'competition_open_since_month'\n",
    "# Convert to string and format with leading zeros for month\n",
    "df_store['competition_open_date'] = df_store['CompetitionOpenSinceYear'].astype(str) + '-' + df_store['CompetitionOpenSinceMonth'].astype(str).str.zfill(2)\n",
    "\n",
    "# Step 2: Convert the new column to a datetime object\n",
    "df_store['competition_open_date'] = pd.to_datetime(df_store['competition_open_date'], format='%Y-%m')\n",
    "\n",
    "print(\"\\nDataFrame after merging and converting to datetime:\")\n",
    "print(df_store.info())\n",
    "\n",
    "\n"
   ]
  },
  {
   "cell_type": "code",
   "execution_count": null,
   "id": "2bb2a0cd-cd0f-4e08-a659-52a85e4442ff",
   "metadata": {},
   "outputs": [],
   "source": []
  },
  {
   "cell_type": "code",
   "execution_count": 45,
   "id": "c08a45ac-a6f8-4cc4-8cbf-f8f80d36bf40",
   "metadata": {},
   "outputs": [],
   "source": [
    "# encoding promointerval before continuing \n",
    "promo_interval_dummies = df_store['PromoInterval'].str.get_dummies(sep=',')\n",
    "\n",
    "# Combine the original DataFrame with the new one hot encoded columns\n",
    "df_store = pd.concat([df_store, promo_interval_dummies], axis=1)\n",
    "\n",
    "# Optionally drop the original PromoInterval column if no longer needed\n",
    "df_store.drop('PromoInterval', axis=1, inplace=True)\n"
   ]
  },
  {
   "cell_type": "code",
   "execution_count": null,
   "id": "0debfc6c-4190-436c-af58-7ee4e29e91c4",
   "metadata": {},
   "outputs": [],
   "source": []
  },
  {
   "cell_type": "code",
   "execution_count": 46,
   "id": "c857aaa8-c256-46a0-83fd-d5a620b08def",
   "metadata": {},
   "outputs": [
    {
     "name": "stdout",
     "output_type": "stream",
     "text": [
      "<class 'pandas.core.frame.DataFrame'>\n",
      "RangeIndex: 1115 entries, 0 to 1114\n",
      "Data columns (total 29 columns):\n",
      " #   Column                     Non-Null Count  Dtype         \n",
      "---  ------                     --------------  -----         \n",
      " 0   Store                      1115 non-null   int64         \n",
      " 1   CompetitionDistance        1115 non-null   float64       \n",
      " 2   CompetitionOpenSinceMonth  1115 non-null   int64         \n",
      " 3   CompetitionOpenSinceYear   1115 non-null   int64         \n",
      " 4   Promo2                     1115 non-null   int64         \n",
      " 5   Promo2SinceWeek            1115 non-null   float64       \n",
      " 6   Promo2SinceYear            1115 non-null   float64       \n",
      " 7   StoreType_a                1115 non-null   bool          \n",
      " 8   StoreType_b                1115 non-null   bool          \n",
      " 9   StoreType_c                1115 non-null   bool          \n",
      " 10  StoreType_d                1115 non-null   bool          \n",
      " 11  Assortment_a               1115 non-null   bool          \n",
      " 12  Assortment_b               1115 non-null   bool          \n",
      " 13  Assortment_c               1115 non-null   bool          \n",
      " 14  Promo2StartDate            571 non-null    datetime64[ns]\n",
      " 15  competition_open_date      1115 non-null   datetime64[ns]\n",
      " 16  0                          1115 non-null   int64         \n",
      " 17  Apr                        1115 non-null   int64         \n",
      " 18  Aug                        1115 non-null   int64         \n",
      " 19  Dec                        1115 non-null   int64         \n",
      " 20  Feb                        1115 non-null   int64         \n",
      " 21  Jan                        1115 non-null   int64         \n",
      " 22  Jul                        1115 non-null   int64         \n",
      " 23  Jun                        1115 non-null   int64         \n",
      " 24  Mar                        1115 non-null   int64         \n",
      " 25  May                        1115 non-null   int64         \n",
      " 26  Nov                        1115 non-null   int64         \n",
      " 27  Oct                        1115 non-null   int64         \n",
      " 28  Sept                       1115 non-null   int64         \n",
      "dtypes: bool(7), datetime64[ns](2), float64(3), int64(17)\n",
      "memory usage: 199.4 KB\n"
     ]
    }
   ],
   "source": [
    "df_store.info()"
   ]
  },
  {
   "cell_type": "code",
   "execution_count": null,
   "id": "6718be18-3adf-4295-a534-bed8e5d39096",
   "metadata": {},
   "outputs": [],
   "source": []
  },
  {
   "cell_type": "code",
   "execution_count": 47,
   "id": "4ad5ff4c-6fde-47af-8f6b-2e47ea603919",
   "metadata": {},
   "outputs": [
    {
     "data": {
      "text/plain": [
       "0\n",
       "0    571\n",
       "1    544\n",
       "Name: count, dtype: int64"
      ]
     },
     "execution_count": 47,
     "metadata": {},
     "output_type": "execute_result"
    }
   ],
   "source": [
    "df_store[\"0\"].value_counts()\n",
    "# 0 is the value for non participant stores"
   ]
  },
  {
   "cell_type": "code",
   "execution_count": 48,
   "id": "e6d94930-b377-470c-9765-27206958b7b1",
   "metadata": {},
   "outputs": [
    {
     "name": "stdout",
     "output_type": "stream",
     "text": [
      "<class 'pandas.core.series.Series'>\n",
      "RangeIndex: 1017209 entries, 0 to 1017208\n",
      "Series name: Month\n",
      "Non-Null Count    Dtype\n",
      "--------------    -----\n",
      "1017209 non-null  int32\n",
      "dtypes: int32(1)\n",
      "memory usage: 3.9 MB\n"
     ]
    }
   ],
   "source": [
    "df_train[\"Month\"].info()"
   ]
  },
  {
   "cell_type": "code",
   "execution_count": 49,
   "id": "68e3a077-000d-4a71-a2ff-53a170895d4e",
   "metadata": {},
   "outputs": [],
   "source": [
    "# now we can drop comp open since month and year and also for promo2\n",
    "df_store = df_store.drop(columns=[ \"CompetitionOpenSinceMonth\", \"CompetitionOpenSinceYear\", \"Promo2SinceWeek\", \"Promo2SinceYear\"])\n"
   ]
  },
  {
   "cell_type": "code",
   "execution_count": 50,
   "id": "115229d3-7336-44a5-ae4c-b368ca522139",
   "metadata": {},
   "outputs": [],
   "source": [
    "# now we can merge\n",
    "new_train = pd.merge(df_train, df_store, on='Store')\n",
    "new_test = pd.merge(df_test, df_store, on='Store')"
   ]
  },
  {
   "cell_type": "code",
   "execution_count": 51,
   "id": "588dcf7f-0522-4984-a102-355f8655f423",
   "metadata": {},
   "outputs": [
    {
     "name": "stdout",
     "output_type": "stream",
     "text": [
      "<class 'pandas.core.frame.DataFrame'>\n",
      "RangeIndex: 1017209 entries, 0 to 1017208\n",
      "Data columns (total 41 columns):\n",
      " #   Column                 Non-Null Count    Dtype         \n",
      "---  ------                 --------------    -----         \n",
      " 0   Store                  1017209 non-null  int64         \n",
      " 1   Date                   1017209 non-null  datetime64[ns]\n",
      " 2   Sales                  1017209 non-null  int64         \n",
      " 3   Customers              1017209 non-null  int64         \n",
      " 4   Open                   1017209 non-null  int64         \n",
      " 5   Promo                  1017209 non-null  int64         \n",
      " 6   StateHoliday           1017209 non-null  int64         \n",
      " 7   SchoolHoliday          1017209 non-null  int64         \n",
      " 8   Month                  1017209 non-null  int32         \n",
      " 9   Year                   1017209 non-null  int32         \n",
      " 10  DayOfWeek_1            1017209 non-null  bool          \n",
      " 11  DayOfWeek_2            1017209 non-null  bool          \n",
      " 12  DayOfWeek_3            1017209 non-null  bool          \n",
      " 13  DayOfWeek_4            1017209 non-null  bool          \n",
      " 14  DayOfWeek_5            1017209 non-null  bool          \n",
      " 15  DayOfWeek_6            1017209 non-null  bool          \n",
      " 16  DayOfWeek_7            1017209 non-null  bool          \n",
      " 17  CompetitionDistance    1017209 non-null  float64       \n",
      " 18  Promo2                 1017209 non-null  int64         \n",
      " 19  StoreType_a            1017209 non-null  bool          \n",
      " 20  StoreType_b            1017209 non-null  bool          \n",
      " 21  StoreType_c            1017209 non-null  bool          \n",
      " 22  StoreType_d            1017209 non-null  bool          \n",
      " 23  Assortment_a           1017209 non-null  bool          \n",
      " 24  Assortment_b           1017209 non-null  bool          \n",
      " 25  Assortment_c           1017209 non-null  bool          \n",
      " 26  Promo2StartDate        509178 non-null   datetime64[ns]\n",
      " 27  competition_open_date  1017209 non-null  datetime64[ns]\n",
      " 28  0                      1017209 non-null  int64         \n",
      " 29  Apr                    1017209 non-null  int64         \n",
      " 30  Aug                    1017209 non-null  int64         \n",
      " 31  Dec                    1017209 non-null  int64         \n",
      " 32  Feb                    1017209 non-null  int64         \n",
      " 33  Jan                    1017209 non-null  int64         \n",
      " 34  Jul                    1017209 non-null  int64         \n",
      " 35  Jun                    1017209 non-null  int64         \n",
      " 36  Mar                    1017209 non-null  int64         \n",
      " 37  May                    1017209 non-null  int64         \n",
      " 38  Nov                    1017209 non-null  int64         \n",
      " 39  Oct                    1017209 non-null  int64         \n",
      " 40  Sept                   1017209 non-null  int64         \n",
      "dtypes: bool(14), datetime64[ns](3), float64(1), int32(2), int64(21)\n",
      "memory usage: 215.4 MB\n"
     ]
    }
   ],
   "source": [
    "new_train.info()"
   ]
  },
  {
   "cell_type": "code",
   "execution_count": null,
   "id": "dd7949a6-6a33-4cf3-ae2f-6c39fab74dae",
   "metadata": {},
   "outputs": [],
   "source": []
  },
  {
   "cell_type": "code",
   "execution_count": 52,
   "id": "38836939-6db3-4187-884e-e0bfa189cef2",
   "metadata": {},
   "outputs": [
    {
     "name": "stdout",
     "output_type": "stream",
     "text": [
      "         Store       Date  Sales  Customers  Open  Promo  StateHoliday   \n",
      "0            1 2015-07-31   5263        555     1      1             0  \\\n",
      "1            1 2015-07-30   5020        546     1      1             0   \n",
      "2            1 2015-07-29   4782        523     1      1             0   \n",
      "3            1 2015-07-28   5011        560     1      1             0   \n",
      "4            1 2015-07-27   6102        612     1      1             0   \n",
      "...        ...        ...    ...        ...   ...    ...           ...   \n",
      "1017204   1115 2013-01-05   4771        339     1      0             0   \n",
      "1017205   1115 2013-01-04   4540        326     1      0             0   \n",
      "1017206   1115 2013-01-03   4297        300     1      0             0   \n",
      "1017207   1115 2013-01-02   3697        305     1      0             0   \n",
      "1017208   1115 2013-01-01      0          0     0      0             1   \n",
      "\n",
      "         SchoolHoliday  Month  Year  ...  Jan  Jul  Jun  Mar  May  Nov  Oct   \n",
      "0                    1      7  2015  ...    0    0    0    0    0    0    0  \\\n",
      "1                    1      7  2015  ...    0    0    0    0    0    0    0   \n",
      "2                    1      7  2015  ...    0    0    0    0    0    0    0   \n",
      "3                    1      7  2015  ...    0    0    0    0    0    0    0   \n",
      "4                    1      7  2015  ...    0    0    0    0    0    0    0   \n",
      "...                ...    ...   ...  ...  ...  ...  ...  ...  ...  ...  ...   \n",
      "1017204              1      1  2013  ...    0    0    1    1    0    0    0   \n",
      "1017205              1      1  2013  ...    0    0    1    1    0    0    0   \n",
      "1017206              1      1  2013  ...    0    0    1    1    0    0    0   \n",
      "1017207              1      1  2013  ...    0    0    1    1    0    0    0   \n",
      "1017208              1      1  2013  ...    0    0    1    1    0    0    0   \n",
      "\n",
      "         Sept  CompetitionOpenSinceDays  Promo2SinceDays  \n",
      "0           0                      2524              0.0  \n",
      "1           0                      2523              0.0  \n",
      "2           0                      2522              0.0  \n",
      "3           0                      2521              0.0  \n",
      "4           0                      2520              0.0  \n",
      "...       ...                       ...              ...  \n",
      "1017204     1                      1649            223.0  \n",
      "1017205     1                      1648            222.0  \n",
      "1017206     1                      1647            221.0  \n",
      "1017207     1                      1646            220.0  \n",
      "1017208     1                      1645            219.0  \n",
      "\n",
      "[1017209 rows x 43 columns]\n",
      "       Store       Date  Sales  Customers  Open  Promo  StateHoliday   \n",
      "0          1 2015-09-17    NaN        NaN   1.0      1             0  \\\n",
      "1          1 2015-09-16    NaN        NaN   1.0      1             0   \n",
      "2          1 2015-09-15    NaN        NaN   1.0      1             0   \n",
      "3          1 2015-09-14    NaN        NaN   1.0      1             0   \n",
      "4          1 2015-09-13    NaN        NaN   0.0      0             0   \n",
      "...      ...        ...    ...        ...   ...    ...           ...   \n",
      "41083   1115 2015-08-05    NaN        NaN   1.0      1             0   \n",
      "41084   1115 2015-08-04    NaN        NaN   1.0      1             0   \n",
      "41085   1115 2015-08-03    NaN        NaN   1.0      1             0   \n",
      "41086   1115 2015-08-02    NaN        NaN   0.0      0             0   \n",
      "41087   1115 2015-08-01    NaN        NaN   1.0      0             0   \n",
      "\n",
      "       SchoolHoliday  Month  Year  ...  Jan  Jul  Jun  Mar  May  Nov  Oct   \n",
      "0                  0      9  2015  ...    0    0    0    0    0    0    0  \\\n",
      "1                  0      9  2015  ...    0    0    0    0    0    0    0   \n",
      "2                  0      9  2015  ...    0    0    0    0    0    0    0   \n",
      "3                  0      9  2015  ...    0    0    0    0    0    0    0   \n",
      "4                  0      9  2015  ...    0    0    0    0    0    0    0   \n",
      "...              ...    ...   ...  ...  ...  ...  ...  ...  ...  ...  ...   \n",
      "41083              1      8  2015  ...    0    0    1    1    0    0    0   \n",
      "41084              1      8  2015  ...    0    0    1    1    0    0    0   \n",
      "41085              1      8  2015  ...    0    0    1    1    0    0    0   \n",
      "41086              1      8  2015  ...    0    0    1    1    0    0    0   \n",
      "41087              1      8  2015  ...    0    0    1    1    0    0    0   \n",
      "\n",
      "       Sept  CompetitionOpenSinceDays  Promo2SinceDays  \n",
      "0         0                      2572              0.0  \n",
      "1         0                      2571              0.0  \n",
      "2         0                      2570              0.0  \n",
      "3         0                      2569              0.0  \n",
      "4         0                      2568              0.0  \n",
      "...     ...                       ...              ...  \n",
      "41083     1                      2591           1165.0  \n",
      "41084     1                      2590           1164.0  \n",
      "41085     1                      2589           1163.0  \n",
      "41086     1                      2588           1162.0  \n",
      "41087     1                      2587           1161.0  \n",
      "\n",
      "[41088 rows x 43 columns]\n"
     ]
    }
   ],
   "source": [
    "# Calculate the difference in days\n",
    "new_train['CompetitionOpenSinceDays'] = (new_train['Date'] - new_train['competition_open_date']).dt.days\n",
    "new_train['Promo2SinceDays'] = (new_train['Date'] - new_train['Promo2StartDate']).dt.days\n",
    "\n",
    "new_test['CompetitionOpenSinceDays'] = (new_test['Date'] - new_test['competition_open_date']).dt.days\n",
    "new_test['Promo2SinceDays'] = (new_test['Date'] - new_test['Promo2StartDate']).dt.days\n",
    "\n",
    "# Replace NaN values with 0\n",
    "new_train['CompetitionOpenSinceDays'].fillna(0, inplace=True)\n",
    "new_train['Promo2SinceDays'].fillna(0, inplace=True)\n",
    "\n",
    "new_test['CompetitionOpenSinceDays'].fillna(0, inplace=True)\n",
    "new_test['Promo2SinceDays'].fillna(0, inplace=True)\n",
    "\n",
    "print(new_train)\n",
    "print(new_test)"
   ]
  },
  {
   "cell_type": "code",
   "execution_count": 53,
   "id": "10fbf58f-f9e2-4933-b26b-dee4a51254dd",
   "metadata": {},
   "outputs": [],
   "source": [
    "# now we drop now unnecessary columns\n",
    "new_train = new_train.drop(columns=[ \"competition_open_date\", \"Promo2StartDate\"])\n",
    "new_test = new_test.drop(columns=[ \"competition_open_date\", \"Promo2StartDate\"])"
   ]
  },
  {
   "cell_type": "code",
   "execution_count": 54,
   "id": "490e18a1-c637-4b6f-9b7a-d675cdc2e3b4",
   "metadata": {},
   "outputs": [
    {
     "data": {
      "text/plain": [
       "0          1270.0\n",
       "1          1270.0\n",
       "2          1270.0\n",
       "3          1270.0\n",
       "4          1270.0\n",
       "            ...  \n",
       "1017204    5350.0\n",
       "1017205    5350.0\n",
       "1017206    5350.0\n",
       "1017207    5350.0\n",
       "1017208    5350.0\n",
       "Name: CompetitionDistance, Length: 1017209, dtype: float64"
      ]
     },
     "execution_count": 54,
     "metadata": {},
     "output_type": "execute_result"
    }
   ],
   "source": [
    "new_train[\"CompetitionDistance\"]"
   ]
  },
  {
   "cell_type": "code",
   "execution_count": 55,
   "id": "803b132d-c93e-4d66-bcc0-96b617f352af",
   "metadata": {},
   "outputs": [
    {
     "data": {
      "text/plain": [
       "75860.0"
      ]
     },
     "execution_count": 55,
     "metadata": {},
     "output_type": "execute_result"
    }
   ],
   "source": [
    "new_train['CompetitionDistance'].max()"
   ]
  },
  {
   "cell_type": "code",
   "execution_count": 56,
   "id": "9fcd58cc-f52a-4499-b246-d3554bf174b3",
   "metadata": {},
   "outputs": [
    {
     "data": {
      "image/png": "[encoded data removed]",
      "text/plain": [
       "<Figure size 640x480 with 1 Axes>"
      ]
     },
     "metadata": {},
     "output_type": "display_data"
    }
   ],
   "source": [
    "# to see the distribution\n",
    "import matplotlib.pyplot as plt\n",
    "\n",
    "# Example: Plotting a histogram for CompetitionDistance\n",
    "plt.hist(new_train['CompetitionDistance'], bins=30, edgecolor='black')\n",
    "plt.xlabel('Competition Distance')\n",
    "plt.ylabel('Frequency')\n",
    "plt.title('Histogram of Competition Distance')\n",
    "plt.show()"
   ]
  },
  {
   "cell_type": "code",
   "execution_count": 57,
   "id": "40a38c38-b85a-4569-bbf3-e983be387882",
   "metadata": {},
   "outputs": [
    {
     "name": "stdout",
     "output_type": "stream",
     "text": [
      "Skewness of Competition Distance: 2.9323655975915637\n"
     ]
    }
   ],
   "source": [
    "from scipy.stats import skew\n",
    "skewness = skew(new_train['CompetitionDistance'])\n",
    "print(\"Skewness of Competition Distance:\", skewness)\n",
    "# since our skewness came 2.98, we will use log transform"
   ]
  },
  {
   "cell_type": "code",
   "execution_count": 58,
   "id": "a536e2f4-c7be-43af-8bf7-2f30ac909add",
   "metadata": {},
   "outputs": [],
   "source": [
    "\n",
    "# Log transformation\n",
    "new_train['CompetitionDistance'] = np.log1p(new_train['CompetitionDistance'])\n",
    "new_test['CompetitionDistance'] = np.log1p(new_test['CompetitionDistance'])\n",
    "# new skewness -0.3, much better"
   ]
  },
  {
   "cell_type": "code",
   "execution_count": null,
   "id": "9ad419a1-5dde-4111-b94b-787317f0341b",
   "metadata": {},
   "outputs": [],
   "source": []
  },
  {
   "cell_type": "code",
   "execution_count": 59,
   "id": "647666fa-ed15-47cd-8ee8-3a8ee1597aa7",
   "metadata": {},
   "outputs": [],
   "source": [
    "# last step, creating a new column indicating if promo2 is active on the given month. then we can also drop one hot encode of months"
   ]
  },
  {
   "cell_type": "code",
   "execution_count": 60,
   "id": "a8fdf315-7755-4ace-b88c-0893acc247dc",
   "metadata": {},
   "outputs": [],
   "source": [
    "# Define a list of month columns\n",
    "month_columns = ['Apr', 'Aug', 'Dec', 'Feb', 'Jan', 'Jul', 'Jun', 'Mar', 'May', 'Nov', 'Oct', 'Sept']\n",
    "\n",
    "# Create a new column 'MonthIndicator' which is 1 if any month column matches the Month value\n",
    "new_train['Promo2ParticipationCurrently'] = new_train.apply(lambda row: 1 if row[month_columns[row['Month'] - 1]] == 1 else 0, axis=1)\n",
    "new_test['Promo2ParticipationCurrently'] = new_test.apply(lambda row: 1 if row[month_columns[row['Month'] - 1]] == 1 else 0, axis=1)\n",
    "\n"
   ]
  },
  {
   "cell_type": "code",
   "execution_count": 61,
   "id": "fe9784fe-ee87-49c1-bdf7-4a5b6f7b602b",
   "metadata": {},
   "outputs": [],
   "source": [
    "# now we have the related info: we can drop unnecessary columns \n",
    "# List of columns to drop\n",
    "columns_to_drop = ['0', 'Apr', 'Aug', 'Dec', 'Feb', 'Jan', 'Jul', 'Jun', 'Mar', 'May', 'Nov', 'Oct', 'Sept']\n",
    "\n",
    "# Drop columns from new_train\n",
    "new_train = new_train.drop(columns=columns_to_drop)\n",
    "\n",
    "# Drop columns from new_test\n",
    "new_test = new_test.drop(columns=columns_to_drop)\n"
   ]
  },
  {
   "cell_type": "code",
   "execution_count": 62,
   "id": "b4ecdff4-5b71-47b3-bf87-78b7d9e34f02",
   "metadata": {},
   "outputs": [
    {
     "name": "stdout",
     "output_type": "stream",
     "text": [
      "<class 'pandas.core.frame.DataFrame'>\n",
      "RangeIndex: 1017209 entries, 0 to 1017208\n",
      "Data columns (total 29 columns):\n",
      " #   Column                        Non-Null Count    Dtype         \n",
      "---  ------                        --------------    -----         \n",
      " 0   Store                         1017209 non-null  int64         \n",
      " 1   Date                          1017209 non-null  datetime64[ns]\n",
      " 2   Sales                         1017209 non-null  int64         \n",
      " 3   Customers                     1017209 non-null  int64         \n",
      " 4   Open                          1017209 non-null  int64         \n",
      " 5   Promo                         1017209 non-null  int64         \n",
      " 6   StateHoliday                  1017209 non-null  int64         \n",
      " 7   SchoolHoliday                 1017209 non-null  int64         \n",
      " 8   Month                         1017209 non-null  int32         \n",
      " 9   Year                          1017209 non-null  int32         \n",
      " 10  DayOfWeek_1                   1017209 non-null  bool          \n",
      " 11  DayOfWeek_2                   1017209 non-null  bool          \n",
      " 12  DayOfWeek_3                   1017209 non-null  bool          \n",
      " 13  DayOfWeek_4                   1017209 non-null  bool          \n",
      " 14  DayOfWeek_5                   1017209 non-null  bool          \n",
      " 15  DayOfWeek_6                   1017209 non-null  bool          \n",
      " 16  DayOfWeek_7                   1017209 non-null  bool          \n",
      " 17  CompetitionDistance           1017209 non-null  float64       \n",
      " 18  Promo2                        1017209 non-null  int64         \n",
      " 19  StoreType_a                   1017209 non-null  bool          \n",
      " 20  StoreType_b                   1017209 non-null  bool          \n",
      " 21  StoreType_c                   1017209 non-null  bool          \n",
      " 22  StoreType_d                   1017209 non-null  bool          \n",
      " 23  Assortment_a                  1017209 non-null  bool          \n",
      " 24  Assortment_b                  1017209 non-null  bool          \n",
      " 25  Assortment_c                  1017209 non-null  bool          \n",
      " 26  CompetitionOpenSinceDays      1017209 non-null  int32         \n",
      " 27  Promo2SinceDays               1017209 non-null  float64       \n",
      " 28  Promo2ParticipationCurrently  1017209 non-null  int64         \n",
      "dtypes: bool(14), datetime64[ns](1), float64(2), int32(3), int64(9)\n",
      "memory usage: 118.4 MB\n"
     ]
    }
   ],
   "source": [
    "new_train.info()"
   ]
  },
  {
   "cell_type": "code",
   "execution_count": null,
   "id": "14330973-8207-4360-82c9-ba17435e57e0",
   "metadata": {},
   "outputs": [],
   "source": []
  },
  {
   "cell_type": "code",
   "execution_count": 63,
   "id": "1f03a29c-24c0-4e88-aeff-c6b97b273e75",
   "metadata": {},
   "outputs": [],
   "source": [
    "# since date column is in a type that we cannot work with, we have to drop it\n",
    "new_train = new_train.drop(columns=['Date'])\n",
    "new_test = new_test.drop(columns=['Date'])"
   ]
  },
  {
   "cell_type": "code",
   "execution_count": null,
   "id": "f5b66f86-bd10-4619-864b-38e93b66578e",
   "metadata": {},
   "outputs": [],
   "source": []
  },
  {
   "cell_type": "code",
   "execution_count": null,
   "id": "d42f3459-d635-4d1d-a95a-50599458cb90",
   "metadata": {},
   "outputs": [],
   "source": []
  },
  {
   "cell_type": "code",
   "execution_count": 64,
   "id": "0c781ae7-dea7-4b8a-88d6-c697e49fb6ce",
   "metadata": {},
   "outputs": [],
   "source": [
    "# saving the new files\n",
    "new_train.to_csv('new_train.csv', index=False)\n",
    "new_test.to_csv('new_test.csv', index=False)"
   ]
  },
  {
   "cell_type": "code",
   "execution_count": 65,
   "id": "1fc8c5d4-ebce-4b32-ac27-08b2e2857809",
   "metadata": {},
   "outputs": [
    {
     "data": {
      "text/plain": [
       "Store                           0\n",
       "Sales                           0\n",
       "Customers                       0\n",
       "Open                            0\n",
       "Promo                           0\n",
       "StateHoliday                    0\n",
       "SchoolHoliday                   0\n",
       "Month                           0\n",
       "Year                            0\n",
       "DayOfWeek_1                     0\n",
       "DayOfWeek_2                     0\n",
       "DayOfWeek_3                     0\n",
       "DayOfWeek_4                     0\n",
       "DayOfWeek_5                     0\n",
       "DayOfWeek_6                     0\n",
       "DayOfWeek_7                     0\n",
       "CompetitionDistance             0\n",
       "Promo2                          0\n",
       "StoreType_a                     0\n",
       "StoreType_b                     0\n",
       "StoreType_c                     0\n",
       "StoreType_d                     0\n",
       "Assortment_a                    0\n",
       "Assortment_b                    0\n",
       "Assortment_c                    0\n",
       "CompetitionOpenSinceDays        0\n",
       "Promo2SinceDays                 0\n",
       "Promo2ParticipationCurrently    0\n",
       "dtype: int64"
      ]
     },
     "execution_count": 65,
     "metadata": {},
     "output_type": "execute_result"
    }
   ],
   "source": [
    "new_train.isnull().sum()"
   ]
  },
  {
   "cell_type": "code",
   "execution_count": null,
   "id": "ac6cc0b6-d82e-41b9-8980-c2bdbe4cf88d",
   "metadata": {},
   "outputs": [],
   "source": []
  },
  {
   "cell_type": "markdown",
   "id": "6102a749-223a-4d91-bbe5-43e9837cf909",
   "metadata": {},
   "source": [
    "## Extra observations, no need to run further\n"
   ]
  },
  {
   "cell_type": "code",
   "execution_count": null,
   "id": "c27ad754-27be-4834-bb4b-96fd72c618e6",
   "metadata": {},
   "outputs": [],
   "source": []
  },
  {
   "cell_type": "code",
   "execution_count": null,
   "id": "56263513-cbbf-48a6-a995-900dc7880d5d",
   "metadata": {},
   "outputs": [],
   "source": []
  },
  {
   "cell_type": "code",
   "execution_count": 66,
   "id": "1cee1cbb-1b5c-4b67-8f60-59dd278946d7",
   "metadata": {},
   "outputs": [
    {
     "ename": "NameError",
     "evalue": "name 'outliers_count' is not defined",
     "output_type": "error",
     "traceback": [
      "\u001b[0;31m---------------------------------------------------------------------------\u001b[0m",
      "\u001b[0;31mNameError\u001b[0m                                 Traceback (most recent call last)",
      "Cell \u001b[0;32mIn[66], line 8\u001b[0m\n\u001b[1;32m      4\u001b[0m total_data_points \u001b[38;5;241m=\u001b[39m new_train\u001b[38;5;241m.\u001b[39mshape[\u001b[38;5;241m0\u001b[39m]\n\u001b[1;32m      7\u001b[0m \u001b[38;5;66;03m# Calculate relative proportion of outliers\u001b[39;00m\n\u001b[0;32m----> 8\u001b[0m relative_proportion \u001b[38;5;241m=\u001b[39m \u001b[43moutliers_count\u001b[49m \u001b[38;5;241m/\u001b[39m total_data_points\n\u001b[1;32m     10\u001b[0m \u001b[38;5;28mprint\u001b[39m(\u001b[38;5;124m\"\u001b[39m\u001b[38;5;124mRelative Proportion of Outliers:\u001b[39m\u001b[38;5;124m\"\u001b[39m, relative_proportion)\n",
      "\u001b[0;31mNameError\u001b[0m: name 'outliers_count' is not defined"
     ]
    }
   ],
   "source": [
    "#Relative Proportion of Outliers\n",
    "\n",
    "# total # of points\n",
    "total_data_points = new_train.shape[0]\n",
    "\n",
    "\n",
    "# Calculate relative proportion of outliers\n",
    "relative_proportion = outliers_count / total_data_points\n",
    "\n",
    "print(\"Relative Proportion of Outliers:\", relative_proportion)\n"
   ]
  },
  {
   "cell_type": "code",
   "execution_count": null,
   "id": "2e1a9b85-20f5-4dff-a203-65805d4c66e7",
   "metadata": {},
   "outputs": [],
   "source": []
  },
  {
   "cell_type": "code",
   "execution_count": null,
   "id": "7a9fbe9d-2ffd-4fe4-9b06-9e264e2a8e07",
   "metadata": {},
   "outputs": [],
   "source": [
    "import matplotlib.pyplot as plt\n",
    "\n",
    "# histograms by column. obviously we will choose which ones to go with\n",
    "\n",
    "# Plot histograms for each column\n",
    "for column in new_train.columns:\n",
    "    plt.figure(figsize=(3, 2))\n",
    "    plt.hist(new_train[column], bins=30, color='skyblue', edgecolor='black', alpha=0.7)\n",
    "    plt.xlabel(column)\n",
    "    plt.ylabel('Frequency')\n",
    "    plt.title(f'Distribution of {column}')\n",
    "    plt.grid(True)\n",
    "    plt.show()\n"
   ]
  },
  {
   "cell_type": "code",
   "execution_count": null,
   "id": "10f4264a-2272-430f-86da-d88fe2548715",
   "metadata": {},
   "outputs": [],
   "source": []
  },
  {
   "cell_type": "code",
   "execution_count": null,
   "id": "7811adac-c0d9-482e-aa27-7957ac2a87e5",
   "metadata": {},
   "outputs": [],
   "source": [
    "# seeing outliers \n",
    "\n",
    "# Create a dictionary to store the count of outliers for each column\n",
    "outliers_count_by_column = {}\n",
    "\n",
    "# Iterate over each column to calculate the count of outliers\n",
    "for column_index, column_name in enumerate(new_train.columns):\n",
    "    # Get the indices of outliers for the current column\n",
    "    column_outliers_indices = outliers_z[0][outliers_z[1] == column_index]\n",
    "    # Count the number of outliers for the current column\n",
    "    column_outliers_count = len(column_outliers_indices)\n",
    "    # Store the count of outliers for the current column in the dictionary\n",
    "    outliers_count_by_column[column_name] = column_outliers_count\n",
    "\n",
    "# Print the count of outliers for each column\n",
    "for column, count in outliers_count_by_column.items():\n",
    "    print(f\"Number of outliers in '{column}': {count}\")\n",
    "\n",
    " # outliers in customers -expected-, sales - defo needs to keep, \n",
    "# state holiday (not holiday: 843482 holiday: 910 = shows holidays as outlier),\n",
    "#competition distance (many arbitrary values, as distance varies) \n",
    "#and CompetitionOpenSinceYear' (years are taken as float, maybe calculated day/month included. thus many values. not sure how to handle)"
   ]
  },
  {
   "cell_type": "code",
   "execution_count": null,
   "id": "103db6fb-0f30-4d20-8a56-79cc89d37a8f",
   "metadata": {},
   "outputs": [],
   "source": [
    "\n",
    "# Calculate the variance for each column\n",
    "variance = new_train.var()\n",
    "\n",
    "# Display the variance\n",
    "print(\"Variance of each column:\")\n",
    "print(variance)\n"
   ]
  },
  {
   "cell_type": "code",
   "execution_count": null,
   "id": "c9e0d6ab-bf97-4ce3-bc11-07ba493f1809",
   "metadata": {},
   "outputs": [],
   "source": [
    "import seaborn as sns\n",
    "import matplotlib.pyplot as plt\n",
    "\n",
    "# Calculate correlations\n",
    "correlations = new_train.corr()['Sales'].sort_values(ascending=False)\n",
    "\n",
    "# Visualize correlations\n",
    "plt.figure(figsize=(10, 8))\n",
    "sns.barplot(x=correlations.values, y=correlations.index)\n",
    "plt.title('Correlation with Sales')\n",
    "plt.xlabel('Correlation Coefficient')\n",
    "plt.ylabel('Feature')\n",
    "plt.show()\n",
    "\n",
    "\n",
    "\n",
    "# Calculate correlations table\n",
    "correlations_table = new_train.corrwith(new_train['Sales']).sort_values(ascending=False)\n",
    "\n",
    "# Convert correlations to DataFrame\n",
    "correlation_df = pd.DataFrame(correlations_table, columns=['Correlation with Sales'])\n",
    "\n",
    "# Print correlation DataFrame\n",
    "print(\"Correlation Coefficients with Sales:\")\n",
    "print(correlation_df)\n"
   ]
  },
  {
   "cell_type": "code",
   "execution_count": null,
   "id": "7dba4897-a969-4fdd-a745-1da48add79fc",
   "metadata": {},
   "outputs": [],
   "source": []
  },
  {
   "cell_type": "code",
   "execution_count": null,
   "id": "4db798d2-c048-49cf-bb8f-34041040a7c4",
   "metadata": {},
   "outputs": [],
   "source": []
  },
  {
   "cell_type": "code",
   "execution_count": null,
   "id": "8c41f142-9eb8-4f82-8d50-fa7b7b6ba39c",
   "metadata": {},
   "outputs": [],
   "source": []
  },
  {
   "cell_type": "code",
   "execution_count": null,
   "id": "971199ce-a415-41e5-b01b-116ff23f2ef6",
   "metadata": {},
   "outputs": [],
   "source": [
    "        "
   ]
  },
  {
   "cell_type": "code",
   "execution_count": null,
   "id": "6d3d0556-20cd-4a35-9335-3a14efe3d298",
   "metadata": {},
   "outputs": [],
   "source": []
  },
  {
   "cell_type": "code",
   "execution_count": null,
   "id": "0c855cd5-b1d7-4713-8366-b79cf35ce0d4",
   "metadata": {},
   "outputs": [],
   "source": []
  },
  {
   "cell_type": "code",
   "execution_count": null,
   "id": "d176e0a6-86b1-440d-b5e7-bcf0f8405816",
   "metadata": {},
   "outputs": [],
   "source": []
  },
  {
   "cell_type": "code",
   "execution_count": null,
   "id": "36b2eab9-95fe-4bff-ae7a-14e305163f7f",
   "metadata": {},
   "outputs": [],
   "source": []
  },
  {
   "cell_type": "code",
   "execution_count": null,
   "id": "04fe85e8-98a6-4293-ae05-09a03f87087d",
   "metadata": {},
   "outputs": [],
   "source": []
  },
  {
   "cell_type": "code",
   "execution_count": null,
   "id": "1b4c2df7-5c7c-43db-87d9-4a1503fc090e",
   "metadata": {},
   "outputs": [],
   "source": []
  },
  {
   "cell_type": "code",
   "execution_count": null,
   "id": "43122bba-3e1e-4beb-91c4-c7cee0706a77",
   "metadata": {},
   "outputs": [],
   "source": []
  },
  {
   "cell_type": "code",
   "execution_count": null,
   "id": "a637fee2-47c0-4b8c-87ea-b9f4e2a4671c",
   "metadata": {},
   "outputs": [],
   "source": []
  },
  {
   "cell_type": "code",
   "execution_count": null,
   "id": "8a12e506-5bc7-45ca-b317-e9214c682fc4",
   "metadata": {},
   "outputs": [],
   "source": []
  },
  {
   "cell_type": "code",
   "execution_count": null,
   "id": "b657cba2-1f20-440a-acd1-7df3b352d996",
   "metadata": {},
   "outputs": [],
   "source": []
  },
  {
   "cell_type": "code",
   "execution_count": null,
   "id": "7b1fc46e-0fc0-485e-ab00-5764b0ab0ce1",
   "metadata": {},
   "outputs": [],
   "source": []
  },
  {
   "cell_type": "code",
   "execution_count": null,
   "id": "dde0139d-91e6-45b2-8c2f-2a131c10d7a2",
   "metadata": {},
   "outputs": [],
   "source": []
  },
  {
   "cell_type": "code",
   "execution_count": null,
   "id": "4f6cbcde-37f7-4bac-b079-4cbf456c77c1",
   "metadata": {},
   "outputs": [],
   "source": []
  },
  {
   "cell_type": "code",
   "execution_count": null,
   "id": "d79b1b3b-c47d-474e-92e9-c4a8605af2c4",
   "metadata": {},
   "outputs": [],
   "source": []
  },
  {
   "cell_type": "code",
   "execution_count": null,
   "id": "87a9b9b6-b003-4724-91fb-724b25090a64",
   "metadata": {},
   "outputs": [],
   "source": []
  },
  {
   "cell_type": "code",
   "execution_count": null,
   "id": "20517cba-c985-41fd-b9a1-80d86561b26d",
   "metadata": {},
   "outputs": [],
   "source": []
  },
  {
   "cell_type": "code",
   "execution_count": null,
   "id": "7037a2f4-87f2-4853-bda5-df19e53ad626",
   "metadata": {},
   "outputs": [],
   "source": []
  },
  {
   "cell_type": "code",
   "execution_count": null,
   "id": "180b09d3-9f60-41a2-b14c-37b9b1c3da26",
   "metadata": {},
   "outputs": [],
   "source": []
  },
  {
   "cell_type": "code",
   "execution_count": null,
   "id": "1a3f3242-e62c-41f2-b9fc-3bb52a0be002",
   "metadata": {},
   "outputs": [],
   "source": []
  },
  {
   "cell_type": "code",
   "execution_count": null,
   "id": "32c5bcd4-cfba-4290-9322-d8dbcbabb3de",
   "metadata": {},
   "outputs": [],
   "source": []
  },
  {
   "cell_type": "code",
   "execution_count": null,
   "id": "2c062d06-7823-4722-8b88-68489c74afd4",
   "metadata": {},
   "outputs": [],
   "source": []
  },
  {
   "cell_type": "code",
   "execution_count": null,
   "id": "5a15f467-3cd7-4693-aad8-9d614c4af4a6",
   "metadata": {},
   "outputs": [],
   "source": []
  },
  {
   "cell_type": "code",
   "execution_count": null,
   "id": "3cc60e34-dc97-4a14-861e-3f93f7124342",
   "metadata": {},
   "outputs": [],
   "source": []
  },
  {
   "cell_type": "code",
   "execution_count": null,
   "id": "f74d4245-824e-4f58-bd33-ebb69874f066",
   "metadata": {},
   "outputs": [],
   "source": []
  },
  {
   "cell_type": "code",
   "execution_count": null,
   "id": "54107384-ffdd-4fe5-9158-384c2e98bf7f",
   "metadata": {},
   "outputs": [],
   "source": []
  },
  {
   "cell_type": "code",
   "execution_count": null,
   "id": "e66e21f9-5091-4d2a-ba65-048a592bddd5",
   "metadata": {},
   "outputs": [],
   "source": []
  },
  {
   "cell_type": "code",
   "execution_count": null,
   "id": "3aa706d2-d33b-4bee-8aef-cc34d98b0832",
   "metadata": {},
   "outputs": [],
   "source": []
  },
  {
   "cell_type": "code",
   "execution_count": null,
   "id": "b39eef1d-6cca-43d5-9cc3-3b000037bdac",
   "metadata": {},
   "outputs": [],
   "source": []
  },
  {
   "cell_type": "code",
   "execution_count": null,
   "id": "37b9bac1-b96f-46ed-9163-cbfdc38da565",
   "metadata": {},
   "outputs": [],
   "source": []
  },
  {
   "cell_type": "code",
   "execution_count": null,
   "id": "5878a576-60c5-4ac0-a517-ebc7471abf3a",
   "metadata": {},
   "outputs": [],
   "source": []
  },
  {
   "cell_type": "code",
   "execution_count": null,
   "id": "580406b2-83c5-4fcb-b7aa-4c20216b117d",
   "metadata": {},
   "outputs": [],
   "source": []
  },
  {
   "cell_type": "code",
   "execution_count": null,
   "id": "12cdec5c-369c-447d-9f52-b78f4c0a0641",
   "metadata": {},
   "outputs": [],
   "source": []
  },
  {
   "cell_type": "code",
   "execution_count": null,
   "id": "d82b2038-e06b-426a-ac6e-7a03f41b3f3b",
   "metadata": {},
   "outputs": [],
   "source": []
  },
  {
   "cell_type": "code",
   "execution_count": null,
   "id": "22073947-5afb-46b7-a9b7-dcb188f67a24",
   "metadata": {},
   "outputs": [],
   "source": []
  },
  {
   "cell_type": "code",
   "execution_count": null,
   "id": "e543a3a6-64f4-4a45-bdcc-fb2534f206ff",
   "metadata": {},
   "outputs": [],
   "source": []
  },
  {
   "cell_type": "code",
   "execution_count": null,
   "id": "482df452-f415-4822-acf4-4bf0061f3bdc",
   "metadata": {},
   "outputs": [],
   "source": []
  },
  {
   "cell_type": "code",
   "execution_count": null,
   "id": "cd71a63d-60d7-4c94-8464-8a7c7d361d8e",
   "metadata": {},
   "outputs": [],
   "source": []
  },
  {
   "cell_type": "code",
   "execution_count": null,
   "id": "076aea11-0ca9-4d3c-a6d3-237348f49f0f",
   "metadata": {},
   "outputs": [],
   "source": []
  },
  {
   "cell_type": "code",
   "execution_count": null,
   "id": "30a07ef4-158e-4bb4-8f06-dafff73aa8cb",
   "metadata": {},
   "outputs": [],
   "source": []
  },
  {
   "cell_type": "code",
   "execution_count": null,
   "id": "fb3cb313-9f4d-4cd3-acd4-7a134523ac62",
   "metadata": {},
   "outputs": [],
   "source": []
  },
  {
   "cell_type": "code",
   "execution_count": null,
   "id": "833f9637-5a48-4011-a4ca-522566f0de80",
   "metadata": {},
   "outputs": [],
   "source": []
  },
  {
   "cell_type": "code",
   "execution_count": null,
   "id": "76e10c60-e78c-43b6-923b-780af5c1146d",
   "metadata": {},
   "outputs": [],
   "source": []
  },
  {
   "cell_type": "code",
   "execution_count": null,
   "id": "c70fafc9-bad4-4dc7-b8e6-db36d65a3a50",
   "metadata": {},
   "outputs": [],
   "source": []
  },
  {
   "cell_type": "code",
   "execution_count": null,
   "id": "6031d126-4b9d-4cc1-94b9-54516f76a8da",
   "metadata": {},
   "outputs": [],
   "source": []
  },
  {
   "cell_type": "code",
   "execution_count": null,
   "id": "0c97ae31-56f0-48aa-8d9b-a07e1e9ef197",
   "metadata": {},
   "outputs": [],
   "source": []
  },
  {
   "cell_type": "code",
   "execution_count": null,
   "id": "9084b641-b19f-469b-9d7a-05f9cd7f8deb",
   "metadata": {},
   "outputs": [],
   "source": []
  },
  {
   "cell_type": "code",
   "execution_count": null,
   "id": "5f7afd86-5a18-47d8-a110-aeb95641cf4a",
   "metadata": {},
   "outputs": [],
   "source": []
  },
  {
   "cell_type": "code",
   "execution_count": null,
   "id": "e5f6895e-e82f-4ab5-8cfc-d09407fdee46",
   "metadata": {},
   "outputs": [],
   "source": []
  },
  {
   "cell_type": "code",
   "execution_count": null,
   "id": "5fe796f1-32a3-4b60-ad6a-29232c9cd33c",
   "metadata": {},
   "outputs": [],
   "source": []
  },
  {
   "cell_type": "code",
   "execution_count": null,
   "id": "c3b21132-ac93-4282-ba00-7ecc5cddd227",
   "metadata": {},
   "outputs": [],
   "source": []
  },
  {
   "cell_type": "code",
   "execution_count": null,
   "id": "9030de42-503c-436b-ae98-e4789a6faba8",
   "metadata": {},
   "outputs": [],
   "source": []
  },
  {
   "cell_type": "code",
   "execution_count": null,
   "id": "bd8d466c-e105-4738-90fd-04658bb2b693",
   "metadata": {},
   "outputs": [],
   "source": []
  },
  {
   "cell_type": "code",
   "execution_count": null,
   "id": "5a1e1312-af40-4c2f-a4df-ae4cbc5c5fcf",
   "metadata": {},
   "outputs": [],
   "source": []
  },
  {
   "cell_type": "code",
   "execution_count": null,
   "id": "5d6864b8-8d64-4e28-86d7-84a591370502",
   "metadata": {},
   "outputs": [],
   "source": []
  }
 ],
 "metadata": {
  "kernelspec": {
   "display_name": "Python 3 (ipykernel)",
   "language": "python",
   "name": "python3"
  },
  "language_info": {
   "codemirror_mode": {
    "name": "ipython",
    "version": 3
   },
   "file_extension": ".py",
   "mimetype": "text/x-python",
   "name": "python",
   "nbconvert_exporter": "python",
   "pygments_lexer": "ipython3",
   "version": "3.9.13"
  }
 },
 "nbformat": 4,
 "nbformat_minor": 5
}
